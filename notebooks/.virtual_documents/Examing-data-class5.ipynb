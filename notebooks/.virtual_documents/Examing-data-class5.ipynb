from typing import Optional, Tuple
from astropy.io import fits
from astropy.table import Table
import numpy as np
import pandas as pd
from matplotlib import pyplot as plt
from scipy.stats import gaussian_kde
import matplotlib.cm as cm
import seaborn as sns
sns.set_theme(style="ticks")


df = pd.read_csv("../iDR4-SPLUS-PStotal-PSF-16r175_class05_flags4.csv")


df


#Removing the MC objects
filtered_df = df[~df['ID'].str.contains('MC')]
filtered_df


def equation(m, c, x):
    # Define your equation here, for example, a linear equation: y = mx + c
    y = m * x + c
    return y


def plots(
    color1: np.ndarray,
    color2: np.ndarray,
    x_values: np.ndarray,
    y_values: np.ndarray,
    y_values1: Optional[np.ndarray] = None,
    sample_size: Optional[int] = None,
    xlim: Optional[Tuple[float, float]] = None,
    ylim: Optional[Tuple[float, float]] = None,
    density_method: str = "gaussian_kde",
    colormap: str = "viridis",
    label1: str = None,
    label2: str = None,
    label3: str = None,
    title: str = "Scatter Plot with Density Coloring"
) -> None:
    """
    Plots a scatter plot with points colored based on their density and one or two lines 
    defined by x_values, y_values, and optionally y_values1.
    """

    # Handle sampling and duplicate colors, ensuring equal lengths
    if sample_size is not None:
        unique_indices = np.random.choice(len(color1), size=sample_size, replace=False)
        color1, color2 = color1[unique_indices], color2[unique_indices]

    # Calculate density
    xy = np.vstack([color1, color2])
    if density_method == "gaussian_kde":
        density = gaussian_kde(xy)(xy)
    else:
        raise NotImplementedError(f"Density method {density_method} not supported.")

    # Sort points by density
    sorted_indices = density.argsort()[::-1]  # Descending order
    color1, color2, density = color1[sorted_indices], color2[sorted_indices], density[sorted_indices]

    # Create plot
    fig, ax = plt.subplots(figsize=(14, 11))

    # Customize scatter plot
    scatter_collection = ax.scatter(
        color1,
        color2,
        c=density,
        s=5,
        cmap=colormap,
        alpha=0.8,
        label=label1 if label1 else "Color 1"
    )

    # Customize colorbar
    plt.colorbar(scatter_collection, label="Density")

    # Customize line plots
    plt.plot(x_values, y_values, linewidth=2, color="red", label=label2 if label2 else "Line 1")
    if y_values1 is not None:
        plt.plot(x_values, y_values1, linewidth=2, color="blue", label=label3 if label3 else "Line 2")

    # Set limits
    if xlim is not None:
        plt.xlim(xlim)
    if ylim is not None:
        plt.ylim(ylim)

    # Add labels and title
    plt.xlabel(label1 if label1 else "Color 1")
    plt.ylabel(label2 if label2 else "Color 2")
    plt.title(title)

    # Add legend if labels are provided
    if label1 or label2 or label3:
        plt.legend()

    plt.show()


# Convert the data into an Astropy Table
tab = Table.from_pandas(filtered_df)



tab.colnames


# See the dimesion of the CCD
print(tab['X'].max())
print(tab['Y'].max())





# Generate x values
x_values = np.linspace(-10, 10, 100)  # Generate 100 x values from 0 to 10

# Compute y values using the equation
y_values = equation(0.35, -0.20, x_values)


y_values1 = equation(0.35, 0.30, x_values)


ri_all = tab["r_PStotal"] - tab["i_PStotal"]
rj660_all = tab["r_PStotal"] - tab["J0660_PStotal"]


plots(ri_all, rj660_all, x_values, y_values, y_values1, xlim=(-1.0, 3), ylim=(-2, 2), sample_size=100000)


# Create a plot
plt.plot(tab["FWHM"], tab["Y"], "o")

# Add labels and title
plt.xlabel('FWHM')
plt.ylabel('Y-axis')
plt.title('Simple Plot')

# Show the plot
plt.show()





# Select objects below the line
# below_line = rj660 < equation(ri)
color_crit_lower_all = (rj660_all <= 0.35*ri_all - 0.20)
color_crit_lower_all_vert = (ri_all >= 0.15) & (ri_all <= 0.25) 
mask_color_crit_lower_all = color_crit_lower_all & color_crit_lower_all_vert 

# upper_line = rj660 < equation(ri)
color_crit_upper_all = (rj660_all >= 0.35*ri_all + 0.30)


tab_below_all = tab[mask_color_crit_lower_all]

ri_below_all = tab_below_all["r_PStotal"] - tab_below_all["i_PStotal"]
rj660_below_all = tab_below_all["r_PStotal"] - tab_below_all["J0660_PStotal"]


tab_upper_all = tab[color_crit_upper_all]

ri_upper_all = tab_upper_all["r_PStotal"] - tab_upper_all["i_PStotal"]
rj660_upper_all = tab_upper_all["r_PStotal"] - tab_upper_all["J0660_PStotal"]


plots(ri_below_all, rj660_below_all, x_values, y_values, y_values1, xlim=(-1.0, 3), ylim=(-2, 2))


df_bellow_all = tab_below_all.to_pandas()
#Select columns 
df_bellow_all_ = df_bellow_all[["RA", "DEC", "X", "Y", "FWHM", "FWHM_n", "FWHM_r", "r_PStotal", "J0660_PStotal", "i_PStotal"]]
             
sns.pairplot(df_bellow_all_)


# Creating the equation for the border
x_valuesss = np.linspace(1000, 11000, 100)  
# Compute y values using the equation
y_valuesss = equation(-0.1, 9000, x_valuesss)



# Create a plot
plt.plot(tab_below_all["X"], tab_below_all['Y'], "o")
plt.plot(x_valuesss, y_valuesss)

# Add labels and title
plt.xlabel('X-axis')
plt.ylabel('Y-axis')
plt.title('Simple Plot')

# Show the plot
plt.show()



tmp = tab_below_all["Y"] <= -0.1*tab_below_all["X"] + 9000
tab_below_all_tmp = tab_below_all[tmp]


# Create a plot
plt.plot(tab_below_all_tmp["X"], tab_below_all_tmp['Y'], "o")

# Add labels and title
plt.xlabel('X-axis')
plt.ylabel('Y-axis')
plt.title('Simple Plot')

# Show the plot
plt.show()



# Create a plot
plt.plot(tab_below_all["FWHM"], tab_below_all["Y"], "o")

# Add labels and title
plt.xlabel('FWHM')
plt.ylabel('Y-axis')
plt.title('Simple Plot')

# Show the plot
plt.show()



print("Min FWHM:", tab_below_all["FWHM"].min())
print("Max FWHM:", tab_below_all["FWHM"].max())


tab_below_all_df = tab_below_all.to_pandas()
# Save Pandas DataFrame to CSV file
tab_below_all_df.to_csv("../iDR4-SPLUS-PStotal-PSF-16r175_class05_flags4_below_all.csv", index=False)





tab_upper_all


plots(ri_upper_all, rj660_upper_all, x_values, y_values, y_values1, xlim=(-1.0, 3), ylim=(-2, 2))


df_upper_all = tab_upper_all.to_pandas()
#Select columns 
df_upper_all_ = df_upper_all[["RA", "DEC", "X", "Y", "FWHM", "r_PStotal", "J0660_PStotal", "i_PStotal"]]
             
sns.pairplot(df_upper_all_)


# Create a plot
plt.plot(tab_upper_all["X"], tab_upper_all['Y'], "o")

# Add labels and title
plt.xlabel('X-axis')
plt.ylabel('Y-axis')
plt.title('Simple Plot')

# Show the plot
plt.show()



# Create a plot
plt.plot(tab_upper_all["FWHM"], tab_upper_all["Y"], "o")

# Add labels and title
plt.xlabel('FWHM')
plt.ylabel('Y-axis')
plt.title('Simple Plot')

# Show the plot
plt.show()


print("Min FWHM:", tab_upper_all["FWHM"].min())
print("Max FWHM:", tab_upper_all["FWHM"].max())





# Masking, usar FLATS menor que 4
# Masking
m_x = (tab["r_PStotal"] > 16) & (tab["r_PStotal"] <= 17.5) & (tab["J0660_PStotal"] <= 19.4) & (tab["i_PStotal"] <= 19.2)#& (tab["CLASS_STAR_R"] >= 0.6)
m_err = (tab["e_r_PStotal"]  <= 0.2) & (tab["e_J0660_PStotal"]  <= 0.2) & (tab["e_i_PStotal"]  <= 0.2)
# m_sn = (tab["SNR_WIN_R"]  >= 15) & (tab["SNR_WIN_F660"]  >= 15) & (tab["SNR_WIN_I"]  >= 15)
m_sn = (tab["s2n_r_PStotal"]  > 10) & (tab["s2n_J0660_PStotal"]  > 10) & (tab["s2n_i_PStotal"]  > 10)

# More restrictivo class star
m_star = tab["CLASS_STAR"] > 0.8

valid_ellipticity_range = (0.1, 0.8)  # Example valid range for ellipticity
valid_elongation_range = (1.0, 3.0)   # Example valid range for elongation
shape_mask = (tab['ELLIPTICITY'] >= valid_ellipticity_range[0]) & \
             (tab['ELLIPTICITY'] <= valid_ellipticity_range[1]) & \
             (tab['ELONGATION'] >= valid_elongation_range[0]) & \
             (tab['ELONGATION'] <= valid_elongation_range[1])

# Just ellpticity
m_ell = tab['ELLIPTICITY'] < 0.5

# Radius enclosing 50% of the total flux
m_rad_50 = tab["FLUX_RADIUS_50"] < 3

valid_fwhm_range = (0.0008, 1000.0)  # Example valid range for FWHM in pixels
fwhm_mask = (tab['FWHM'] >= valid_fwhm_range[0]) & \
            (tab['FWHM'] <= valid_fwhm_range[1])

# And the problematics borders
borders = tab["Y"] <= -0.1*tab["X"] + 9000


mask = m_x & m_err & m_ell & m_rad_50 & m_sn & borders #& fwhm_mask  # Use fwhm_mask instead of valid_fwhm_range
tab_clean = tab[mask]






tab_clean









ri = tab_clean["r_PStotal"] - tab_clean["i_PStotal"]
rj660 = tab_clean["r_PStotal"] - tab_clean["J0660_PStotal"]




















print(len(ri), len(rj660), len(x_values), len(y_values), len(y_values1))


plots(ri, rj660, x_values, y_values, y_values1, xlim=(-1.0, 3), ylim=(-2, 2), sample_size=50000)


# Select objects below the line
# below_line = rj660 < equation(ri)
color_crit = (rj660  <= 0.35*ri - 0.20)

# upper_line = rj660 < equation(ri)
color_crit_upper = (rj660 >= 0.35*ri + 0.30)


tab_clean_below = tab_clean[color_crit]


ri_below = tab_clean_below["r_PStotal"] - tab_clean_below["i_PStotal"]
rj660_below = tab_clean_below["r_PStotal"] - tab_clean_below["J0660_PStotal"]



plots(ri_below, rj660_below, x_values, y_values, xlim=(-1.0, 3), ylim=(-2, 2))



tab_clean_below





tab_clean_upper = tab_clean[color_crit_upper]
tab_clean_upper


ri_upper = tab_clean_upper["r_PStotal"] - tab_clean_upper["i_PStotal"]
rj660_upper = tab_clean_upper["r_PStotal"] - tab_clean_upper["J0660_PStotal"]


plots(ri_upper, rj660_upper, x_values, y_values1, xlim=(-1.0, 3), ylim=(-2, 2))



len(tab_clean_below["Field"])
   


for i in tab_clean_below["Field"]:
    print(i)


# Saving
# Save the table as a CSV file
#tab_clean_below.write('iDR4-SPLUS-PStotal-PSF-16r175_class06_flags4_bellow.csv', format='csv', overwrite=True)









# Create a plot
plt.plot(tab_clean_below["X"], tab_clean_below['Y'], "o")

# Add labels and title
plt.xlabel('X-axis')
plt.ylabel('Y-axis')
plt.title('Simple Plot')

# Show the plot
plt.show()



df_bellow = tab_clean_below.to_pandas()
#Select columns 
df_bellow_ = df_bellow[["RA", "DEC", "X", "Y", "FWHM", "r_PStotal", "J0660_PStotal", "i_PStotal"]]
             
sns.pairplot(df_bellow_)





df_upper = tab_clean_upper.to_pandas()
#Select columns 
df_upper_ = df_upper[["RA", "DEC", "X", "Y", "FWHM", "r_PStotal", "J0660_PStotal", "i_PStotal"]]
             
sns.pairplot(df_upper_)





mask_field = tab_clean["Field"] == "b'STRIPE82-0170'"
tab_clean_field = tab_clean[mask_field]


tab_clean_field


plots(tab_clean_field["r_PStotal"] - tab_clean_field["i_PStotal"], tab_clean_field["r_PStotal"] - tab_clean_field["J0660_PStotal"], x_values, y_values, xlim=(-1.0, 3), ylim=(-2, 2))


# tab_clean_df = tab_clean.to_pandas()
# Save Pandas DataFrame to CSV file
# tab_clean_df.to_csv("Rodrigo-data/Fornax_VAC_RUN1_clean.csv", index=False)
















from astropy.io import fits
import numpy as np
from astropy.table import Table
import pandas as pd
import dask.dataframe as dd
from astropy.table import vstack
import dask.dataframe as dd


# Define the file path
file_path = "../iDR4-SPLUS-PStotal-PSF-16r175_class05_flags4.csv"


# Define chunk size
chunk_size = 100000


# Initialize an empty list to store the chunks
chunks = []


# Read the CSV file in chunks and convert each chunk to an Astropy Table
for chunk_df in pd.read_csv(file_path, chunksize=chunk_size):
    # Convert the chunk DataFrame to an Astropy Table
    chunk_table = Table.from_pandas(chunk_df)
    # Append the chunk table to the list of chunks
    chunks.append(chunk_table)


# Concatenate all the chunks into a single Astropy Table
tab = vstack(chunks)


# Create a mask to filter rows containing 'MC' in the 'Field' column
mask = ~np.array([str(val).find('MC') != -1 for val in tab['Field']])

# Apply the mask to the table to get filtered results
filtered_tab = tab[mask]
filtered_tab


# Masking, usar FLATS menor que 4
# Masking
m_x =  (filtered_tab["J0660_PStotal"] <= 19.4) & (filtered_tab["i_PStotal"] <= 19.2)

m_err = (filtered_tab["e_r_PStotal"] <= 0.2) &  \
        (filtered_tab["e_J0660_PStotal"] <= 0.2) & \
        (filtered_tab["e_i_PStotal"] <= 0.2)


m_sn = (filtered_tab["s2n_r_PStotal"] >= 10) & \
       (filtered_tab["s2n_J0660_PStotal"] >= 10) & \
       (filtered_tab["s2n_i_PStotal"] >= 10)

m_ell = (filtered_tab["ELLIPTICITY"]) <= 0.2

m_50 = (filtered_tab["FLUX_RADIUS_50"]) <= 3

valid_ellipticity_range = (0.1, 0.8)  # Example valid range for ellipticity
valid_elongation_range = (1.0, 3.0)   # Example valid range for elongation
shape_mask = (filtered_tab['ELLIPTICITY'] >= valid_ellipticity_range[0]) & \
             (filtered_tab['ELLIPTICITY'] <= valid_ellipticity_range[1]) & \
             (filtered_tab['ELONGATION'] >= valid_elongation_range[0]) & \
             (filtered_tab['ELONGATION'] <= valid_elongation_range[1])

valid_fwhm_range = (0.0008, 1000.0)  # Example valid range for FWHM in pixels
fwhm_mask = (filtered_tab['FWHM'] >= valid_fwhm_range[0]) & \
            (filtered_tab['FWHM'] <= valid_fwhm_range[1])

mask = m_x & m_err & m_sn & m_ell & m_50# Use fwhm_mask instead of valid_fwhm_range
tab_clean = filtered_tab[mask]



tab_clean


# Convert Astropy Table to pandas DataFrame
#tab_clean_df = tab_clean.to_pandas()


# Convert Astropy Table to Dask DataFrame
n = 12
# Get the total number of rows in the Astropy Table
total_rows = len(tab_clean)

# Iterate over the table in chunks
chunks = []
for i in range(0, total_rows, chunk_size):
    chunk = tab_clean[i:i+chunk_size].to_pandas()
    chunks.append(chunk)



# Concatenate all chunks into a single DataFrame
tab_clean_df = pd.concat(chunks, ignore_index=True)


tab_clean_df


#Save Pandas DataFrame to CSV file
tab_clean_df.to_csv(file_path.replace(".csv", "_clean.csv"), index=False)




{
    "cells": [
        {
            "cell_type": "markdown",
            "id": "7c9cdd1a",
            "metadata": {},
            "source": [
                "# Halpha Emitters S-PLUS"
            ]
        },
        {
            "cell_type": "code",
            "execution_count": 1,
            "id": "ff56fb99",
            "metadata": {},
            "outputs": [
                {
                    "name": "stderr",
                    "output_type": "stream",
                    "text": [
                        "/home/luis/anaconda3/envs/myenv/lib/python3.12/site-packages/tqdm/auto.py:21: TqdmWarning: IProgress not found. Please update jupyter and ipywidgets. See https://ipywidgets.readthedocs.io/en/stable/user_install.html\n",
                        "  from .autonotebook import tqdm as notebook_tqdm\n",
                        "2024-11-21 13:19:00.518670: E external/local_xla/xla/stream_executor/cuda/cuda_fft.cc:485] Unable to register cuFFT factory: Attempting to register factory for plugin cuFFT when one has already been registered\n",
                        "2024-11-21 13:19:00.600917: E external/local_xla/xla/stream_executor/cuda/cuda_dnn.cc:8454] Unable to register cuDNN factory: Attempting to register factory for plugin cuDNN when one has already been registered\n",
                        "2024-11-21 13:19:00.623396: E external/local_xla/xla/stream_executor/cuda/cuda_blas.cc:1452] Unable to register cuBLAS factory: Attempting to register factory for plugin cuBLAS when one has already been registered\n",
                        "2024-11-21 13:19:00.756184: I tensorflow/core/platform/cpu_feature_guard.cc:210] This TensorFlow binary is optimized to use available CPU instructions in performance-critical operations.\n",
                        "To enable the following instructions: AVX2 FMA, in other operations, rebuild TensorFlow with the appropriate compiler flags.\n",
                        "2024-11-21 13:19:02.224200: W tensorflow/compiler/tf2tensorrt/utils/py_utils.cc:38] TF-TRT Warning: Could not find TensorRT\n"
                    ]
                }
            ],
            "source": [
                "import numpy as np\n",
                "import pandas as pd\n",
                "import glob\n",
                "from astropy.table import Table\n",
                "from sklearn.decomposition import PCA\n",
                "from sklearn.model_selection import train_test_split\n",
                "from sklearn.metrics: silhouette_score, davies_bouldin_score\n",
                "from sklearn.model_selection: ParameterGrid\n",
                "from sklearn.cluster: KMeans\n",
                "from sklearn.preprocessing: StandardScaler\n",
                "import hdbscan\n",
                "import matplotlib.pyplot as plt\n",
                "from itertools: combinations\n",
                "import umap.umap_ as umap\n",
                "import seaborn as sns; sns.set()\n",
                "sns.set_theme(style=\"ticks\")"
            ]
        },
        {
            "cell_type": "code",
            "execution_count": 2,
            "id": "5c84cdd7",
            "metadata": {},
            "outputs": [],
            "source": [
                "combined_df = pd.read_csv(\"../Ha-emitters/Halpha_Mine_PerField_total-unique_wise.csv\")"
            ]
        },
        {
            "cell_type": "code",
            "execution_count": null,
            "id": "5eb0eb72",
            "metadata": {},
            "outputs": [],
            "source": []
        },
        {
            "cell_type": "code",
            "execution_count": 3,
            "id": "55f260e6",
            "metadata": {},
            "outputs": [
                {
                    "data": {
                        "text/html": [
                            "<div>\n",
                            "<style scoped>\n",
                            "    .dataframe tbody tr th:only-of-type {\n",
                            "        vertical-align: middle;\n",
                            "    }\n",
                            "\n",
                            "    .dataframe tbody tr th {\n",
                            "        vertical-align: top;\n",
                            "    }\n",
                            "\n",
                            "    .dataframe thead th {\n",
                            "        text-align: right;\n",
                            "    }\n",
                            "</style>\n",
                            "<table border=\"1\" class=\"dataframe\">\n",
                            "  <thead>\n",
                            "    <tr style=\"text-align: right;\">\n",
                            "      <th></th>\n",
                            "      <th>Field</th>\n",
                            "      <th>ID</th>\n",
                            "      <th>RA</th>\n",
                            "      <th>DEC</th>\n",
                            "      <th>X</th>\n",
                            "      <th>Y</th>\n",
                            "      <th>FWHM</th>\n",
                            "      <th>FWHM_n</th>\n",
                            "      <th>ISOarea</th>\n",
                            "      <th>KRON_RADIUS</th>\n",
                            "      <th>...</th>\n",
                            "      <th>ccf</th>\n",
                            "      <th>ex</th>\n",
                            "      <th>var</th>\n",
                            "      <th>qph</th>\n",
                            "      <th>pmRA</th>\n",
                            "      <th>e_pmRA</th>\n",
                            "      <th>pmDE</th>\n",
                            "      <th>e_pmDE</th>\n",
                            "      <th>d2M</th>\n",
                            "      <th>angDist</th>\n",
                            "    </tr>\n",
                            "  </thead>\n",
                            "  <tbody>\n",
                            "    <tr>\n",
                            "      <th>0</th>\n",
                            "      <td>b'HYDRA-0011'</td>\n",
                            "      <td>b'iDR4_3_HYDRA-0011_0001534'</td>\n",
                            "      <td>151.228065</td>\n",
                            "      <td>-24.565881</td>\n",
                            "      <td>2768.8430</td>\n",
                            "      <td>1194.1807</td>\n",
                            "      <td>0.000344</td>\n",
                            "      <td>1.109519</td>\n",
                            "      <td>7.119020e-06</td>\n",
                            "      <td>2.708475</td>\n",
                            "      <td>...</td>\n",
                            "      <td>0000</td>\n",
                            "      <td>0</td>\n",
                            "      <td>87nn</td>\n",
                            "      <td>AACU</td>\n",
                            "      <td>182.0</td>\n",
                            "      <td>57.0</td>\n",
                            "      <td>64.0</td>\n",
                            "      <td>59.0</td>\n",
                            "      <td>0.115</td>\n",
                            "      <td>0.129107</td>\n",
                            "    </tr>\n"
                        ]
                    }
                }
            ]
        }
    ],
    "metadata": {},
    "nbformat": 4,
    "nbformat_minor": 2
}
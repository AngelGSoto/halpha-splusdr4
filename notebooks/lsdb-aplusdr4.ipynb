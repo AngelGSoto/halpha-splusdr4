{
 "cells": [
  {
   "cell_type": "code",
   "execution_count": 1,
   "id": "6d286504-c2eb-4cd1-9dda-8f7e55b59969",
   "metadata": {},
   "outputs": [],
   "source": [
    "import lsdb\n",
    "import splusdata\n",
    "import pandas as pd\n",
    "from getpass import getpass"
   ]
  },
  {
   "cell_type": "code",
   "execution_count": 2,
   "id": "3a6eeb3e-f173-4614-ad42-8cd2fc611183",
   "metadata": {},
   "outputs": [
    {
     "name": "stdout",
     "output_type": "stream",
     "text": [
      "{'dr4_vacs': {'qso_z': {'hipscats': ['qso_z'], 'margins': ['qso_z_2arcsec']}, 'photozs': {'hipscats': ['photozs'], 'margins': ['photozs_2arcsec']}, 'calib_flag': {'hipscats': ['calib_flag'], 'margins': ['calib_flag_2arcsec']}, 'sqg': {'hipscats': ['sqg'], 'margins': ['sqg_2arcsec']}}, 'sdr1': {'hipscats': ['shorts'], 'margins': ['shorts_2arcsec']}, 'dr4': {'hipscats': ['single', 'dual', 'psf'], 'margins': ['psf_2arcsec', 'single_2arcsec', 'dual_2arcsec']}}\n"
     ]
    }
   ],
   "source": [
    "# This will print all available links\n",
    "\n",
    "print(splusdata.get_hipscats())"
   ]
  },
  {
   "cell_type": "code",
   "execution_count": 3,
   "id": "fba56abe-11b1-4d9d-863a-9ac7aad1706f",
   "metadata": {},
   "outputs": [
    {
     "name": "stdout",
     "output_type": "stream",
     "text": [
      "[['https://splus.cloud/HIPS/catalogs/dr4/dual/', 'https://splus.cloud/HIPS/catalogs/dr4/dual_2arcsec/']]\n"
     ]
    }
   ],
   "source": [
    "# This will search for a specific pattern\n",
    "print(splusdata.get_hipscats(\"dr4/dual\"))"
   ]
  },
  {
   "cell_type": "code",
   "execution_count": 4,
   "id": "80ba22c3-e0d7-4098-80bb-4a9334e501e4",
   "metadata": {},
   "outputs": [
    {
     "name": "stdout",
     "output_type": "stream",
     "text": [
      "<Client: 'tcp://127.0.0.1:38019' processes=10 threads=20, memory=74.51 GiB>\n"
     ]
    }
   ],
   "source": [
    "from dask.distributed import Client\n",
    "client = Client(n_workers=10, memory_limit=\"8GB\")\n",
    "print(client)"
   ]
  },
  {
   "cell_type": "code",
   "execution_count": null,
   "id": "4e7d8d3e-3a90-4f1d-aae1-c98280ef55f8",
   "metadata": {},
   "outputs": [],
   "source": []
  },
  {
   "cell_type": "code",
   "execution_count": null,
   "id": "048f1cc8-a970-47fb-bb1c-1fef6bc03e52",
   "metadata": {},
   "outputs": [],
   "source": []
  },
  {
   "cell_type": "code",
   "execution_count": null,
   "id": "d69bb544-e632-4d9e-a3cf-0441483e0c04",
   "metadata": {},
   "outputs": [],
   "source": []
  },
  {
   "cell_type": "code",
   "execution_count": 6,
   "id": "3c60f9c1-dab5-4044-9fa1-ceb445014b00",
   "metadata": {},
   "outputs": [
    {
     "data": {
      "text/plain": [
       "['https://splus.cloud/HIPS/catalogs/dr4/dual/',\n",
       " 'https://splus.cloud/HIPS/catalogs/dr4/dual_2arcsec/']"
      ]
     },
     "execution_count": 6,
     "metadata": {},
     "output_type": "execute_result"
    }
   ],
   "source": [
    "dr4_links = splusdata.get_hipscats(\"idr4/dual\")[0]\n",
    "dr4_links"
   ]
  },
  {
   "cell_type": "code",
   "execution_count": 8,
   "id": "23b3aa21-03dd-4c1e-8b02-aea0442b044b",
   "metadata": {},
   "outputs": [
    {
     "ename": "FileNotFoundError",
     "evalue": "https://splus.cloud/HIPS/catalogs/dr4/dual_2arcsec/catalog_info.json",
     "output_type": "error",
     "traceback": [
      "\u001b[0;31m---------------------------------------------------------------------------\u001b[0m",
      "\u001b[0;31mClientResponseError\u001b[0m                       Traceback (most recent call last)",
      "File \u001b[0;32m~/anaconda3/envs/lsdb/lib/python3.12/site-packages/fsspec/implementations/http.py:422\u001b[0m, in \u001b[0;36mHTTPFileSystem._info\u001b[0;34m(self, url, **kwargs)\u001b[0m\n\u001b[1;32m    420\u001b[0m \u001b[38;5;28;01mtry\u001b[39;00m:\n\u001b[1;32m    421\u001b[0m     info\u001b[38;5;241m.\u001b[39mupdate(\n\u001b[0;32m--> 422\u001b[0m         \u001b[38;5;28;01mawait\u001b[39;00m _file_info(\n\u001b[1;32m    423\u001b[0m             \u001b[38;5;28mself\u001b[39m\u001b[38;5;241m.\u001b[39mencode_url(url),\n\u001b[1;32m    424\u001b[0m             size_policy\u001b[38;5;241m=\u001b[39mpolicy,\n\u001b[1;32m    425\u001b[0m             session\u001b[38;5;241m=\u001b[39msession,\n\u001b[1;32m    426\u001b[0m             \u001b[38;5;241m*\u001b[39m\u001b[38;5;241m*\u001b[39m\u001b[38;5;28mself\u001b[39m\u001b[38;5;241m.\u001b[39mkwargs,\n\u001b[1;32m    427\u001b[0m             \u001b[38;5;241m*\u001b[39m\u001b[38;5;241m*\u001b[39mkwargs,\n\u001b[1;32m    428\u001b[0m         )\n\u001b[1;32m    429\u001b[0m     )\n\u001b[1;32m    430\u001b[0m     \u001b[38;5;28;01mif\u001b[39;00m info\u001b[38;5;241m.\u001b[39mget(\u001b[38;5;124m\"\u001b[39m\u001b[38;5;124msize\u001b[39m\u001b[38;5;124m\"\u001b[39m) \u001b[38;5;129;01mis\u001b[39;00m \u001b[38;5;129;01mnot\u001b[39;00m \u001b[38;5;28;01mNone\u001b[39;00m:\n",
      "File \u001b[0;32m~/anaconda3/envs/lsdb/lib/python3.12/site-packages/fsspec/implementations/http.py:836\u001b[0m, in \u001b[0;36m_file_info\u001b[0;34m(url, session, size_policy, **kwargs)\u001b[0m\n\u001b[1;32m    835\u001b[0m \u001b[38;5;28;01masync\u001b[39;00m \u001b[38;5;28;01mwith\u001b[39;00m r:\n\u001b[0;32m--> 836\u001b[0m     \u001b[43mr\u001b[49m\u001b[38;5;241;43m.\u001b[39;49m\u001b[43mraise_for_status\u001b[49m\u001b[43m(\u001b[49m\u001b[43m)\u001b[49m\n\u001b[1;32m    838\u001b[0m     \u001b[38;5;66;03m# TODO:\u001b[39;00m\n\u001b[1;32m    839\u001b[0m     \u001b[38;5;66;03m#  recognise lack of 'Accept-Ranges',\u001b[39;00m\n\u001b[1;32m    840\u001b[0m     \u001b[38;5;66;03m#                 or 'Accept-Ranges': 'none' (not 'bytes')\u001b[39;00m\n\u001b[1;32m    841\u001b[0m     \u001b[38;5;66;03m#  to mean streaming only, no random access => return None\u001b[39;00m\n",
      "File \u001b[0;32m~/anaconda3/envs/lsdb/lib/python3.12/site-packages/aiohttp/client_reqrep.py:1093\u001b[0m, in \u001b[0;36mClientResponse.raise_for_status\u001b[0;34m(self)\u001b[0m\n\u001b[1;32m   1092\u001b[0m \u001b[38;5;28mself\u001b[39m\u001b[38;5;241m.\u001b[39mrelease()\n\u001b[0;32m-> 1093\u001b[0m \u001b[38;5;28;01mraise\u001b[39;00m ClientResponseError(\n\u001b[1;32m   1094\u001b[0m     \u001b[38;5;28mself\u001b[39m\u001b[38;5;241m.\u001b[39mrequest_info,\n\u001b[1;32m   1095\u001b[0m     \u001b[38;5;28mself\u001b[39m\u001b[38;5;241m.\u001b[39mhistory,\n\u001b[1;32m   1096\u001b[0m     status\u001b[38;5;241m=\u001b[39m\u001b[38;5;28mself\u001b[39m\u001b[38;5;241m.\u001b[39mstatus,\n\u001b[1;32m   1097\u001b[0m     message\u001b[38;5;241m=\u001b[39m\u001b[38;5;28mself\u001b[39m\u001b[38;5;241m.\u001b[39mreason,\n\u001b[1;32m   1098\u001b[0m     headers\u001b[38;5;241m=\u001b[39m\u001b[38;5;28mself\u001b[39m\u001b[38;5;241m.\u001b[39mheaders,\n\u001b[1;32m   1099\u001b[0m )\n",
      "\u001b[0;31mClientResponseError\u001b[0m: 404, message='Not Found', url='https://splus.cloud/HIPS/catalogs/dr4/dual_2arcsec/catalog_info.json'",
      "\nThe above exception was the direct cause of the following exception:\n",
      "\u001b[0;31mFileNotFoundError\u001b[0m                         Traceback (most recent call last)",
      "Cell \u001b[0;32mIn[8], line 1\u001b[0m\n\u001b[0;32m----> 1\u001b[0m dr4_margin \u001b[38;5;241m=\u001b[39m \u001b[43mlsdb\u001b[49m\u001b[38;5;241;43m.\u001b[39;49m\u001b[43mread_hipscat\u001b[49m\u001b[43m(\u001b[49m\u001b[43mdr4_links\u001b[49m\u001b[43m[\u001b[49m\u001b[38;5;241;43m1\u001b[39;49m\u001b[43m]\u001b[49m\u001b[43m)\u001b[49m\n\u001b[1;32m      2\u001b[0m \u001b[38;5;28;01mfor\u001b[39;00m i \u001b[38;5;129;01min\u001b[39;00m dr4_margin\u001b[38;5;241m.\u001b[39mcolumns:\n\u001b[1;32m      3\u001b[0m     \u001b[38;5;28mprint\u001b[39m(i)\n",
      "File \u001b[0;32m~/anaconda3/envs/lsdb/lib/python3.12/site-packages/lsdb/loaders/hipscat/read_hipscat.py:81\u001b[0m, in \u001b[0;36mread_hipscat\u001b[0;34m(path, catalog_type, search_filter, columns, margin_cache, dtype_backend, storage_options, **kwargs)\u001b[0m\n\u001b[1;32m     78\u001b[0m config_args \u001b[38;5;241m=\u001b[39m {field\u001b[38;5;241m.\u001b[39mname: kwd_args[field\u001b[38;5;241m.\u001b[39mname] \u001b[38;5;28;01mfor\u001b[39;00m field \u001b[38;5;129;01min\u001b[39;00m dataclasses\u001b[38;5;241m.\u001b[39mfields(HipscatLoadingConfig)}\n\u001b[1;32m     79\u001b[0m config \u001b[38;5;241m=\u001b[39m HipscatLoadingConfig(\u001b[38;5;241m*\u001b[39m\u001b[38;5;241m*\u001b[39mconfig_args)\n\u001b[0;32m---> 81\u001b[0m catalog_type_to_use \u001b[38;5;241m=\u001b[39m \u001b[43m_get_dataset_class_from_catalog_info\u001b[49m\u001b[43m(\u001b[49m\u001b[43mpath_str\u001b[49m\u001b[43m,\u001b[49m\u001b[43m \u001b[49m\u001b[43mstorage_options\u001b[49m\u001b[38;5;241;43m=\u001b[39;49m\u001b[43mstorage_options\u001b[49m\u001b[43m)\u001b[49m\n\u001b[1;32m     83\u001b[0m \u001b[38;5;28;01mif\u001b[39;00m catalog_type \u001b[38;5;129;01mis\u001b[39;00m \u001b[38;5;129;01mnot\u001b[39;00m \u001b[38;5;28;01mNone\u001b[39;00m:\n\u001b[1;32m     84\u001b[0m     catalog_type_to_use \u001b[38;5;241m=\u001b[39m catalog_type\n",
      "File \u001b[0;32m~/anaconda3/envs/lsdb/lib/python3.12/site-packages/lsdb/loaders/hipscat/read_hipscat.py:95\u001b[0m, in \u001b[0;36m_get_dataset_class_from_catalog_info\u001b[0;34m(base_catalog_path, storage_options)\u001b[0m\n\u001b[1;32m     93\u001b[0m base_catalog_dir \u001b[38;5;241m=\u001b[39m hc\u001b[38;5;241m.\u001b[39mio\u001b[38;5;241m.\u001b[39mget_file_pointer_from_path(base_catalog_path)\n\u001b[1;32m     94\u001b[0m catalog_info_path \u001b[38;5;241m=\u001b[39m hc\u001b[38;5;241m.\u001b[39mio\u001b[38;5;241m.\u001b[39mpaths\u001b[38;5;241m.\u001b[39mget_catalog_info_pointer(base_catalog_dir)\n\u001b[0;32m---> 95\u001b[0m catalog_info \u001b[38;5;241m=\u001b[39m \u001b[43mBaseCatalogInfo\u001b[49m\u001b[38;5;241;43m.\u001b[39;49m\u001b[43mread_from_metadata_file\u001b[49m\u001b[43m(\u001b[49m\u001b[43mcatalog_info_path\u001b[49m\u001b[43m,\u001b[49m\u001b[43m \u001b[49m\u001b[43mstorage_options\u001b[49m\u001b[38;5;241;43m=\u001b[39;49m\u001b[43mstorage_options\u001b[49m\u001b[43m)\u001b[49m\n\u001b[1;32m     96\u001b[0m catalog_type \u001b[38;5;241m=\u001b[39m catalog_info\u001b[38;5;241m.\u001b[39mcatalog_type\n\u001b[1;32m     97\u001b[0m \u001b[38;5;28;01mif\u001b[39;00m catalog_type \u001b[38;5;129;01mnot\u001b[39;00m \u001b[38;5;129;01min\u001b[39;00m dataset_class_for_catalog_type:\n",
      "File \u001b[0;32m~/anaconda3/envs/lsdb/lib/python3.12/site-packages/hipscat/catalog/dataset/base_catalog_info.py:60\u001b[0m, in \u001b[0;36mBaseCatalogInfo.read_from_metadata_file\u001b[0;34m(cls, catalog_info_file, storage_options)\u001b[0m\n\u001b[1;32m     47\u001b[0m \u001b[38;5;129m@classmethod\u001b[39m\n\u001b[1;32m     48\u001b[0m \u001b[38;5;28;01mdef\u001b[39;00m \u001b[38;5;21mread_from_metadata_file\u001b[39m(\n\u001b[1;32m     49\u001b[0m     \u001b[38;5;28mcls\u001b[39m, catalog_info_file: FilePointer, storage_options: Union[Dict[Any, Any], \u001b[38;5;28;01mNone\u001b[39;00m] \u001b[38;5;241m=\u001b[39m \u001b[38;5;28;01mNone\u001b[39;00m\n\u001b[1;32m     50\u001b[0m ) \u001b[38;5;241m-\u001b[39m\u001b[38;5;241m>\u001b[39m Self:\n\u001b[1;32m     51\u001b[0m \u001b[38;5;250m    \u001b[39m\u001b[38;5;124;03m\"\"\"Read catalog info from the `catalog_info.json` metadata file\u001b[39;00m\n\u001b[1;32m     52\u001b[0m \n\u001b[1;32m     53\u001b[0m \u001b[38;5;124;03m    Args:\u001b[39;00m\n\u001b[0;32m   (...)\u001b[0m\n\u001b[1;32m     58\u001b[0m \u001b[38;5;124;03m        A CatalogInfo object with the data from the `catalog_info.json` file\u001b[39;00m\n\u001b[1;32m     59\u001b[0m \u001b[38;5;124;03m    \"\"\"\u001b[39;00m\n\u001b[0;32m---> 60\u001b[0m     metadata_keywords \u001b[38;5;241m=\u001b[39m \u001b[43mfile_io\u001b[49m\u001b[38;5;241;43m.\u001b[39;49m\u001b[43mload_json_file\u001b[49m\u001b[43m(\u001b[49m\u001b[43mcatalog_info_file\u001b[49m\u001b[43m,\u001b[49m\u001b[43m \u001b[49m\u001b[43mstorage_options\u001b[49m\u001b[38;5;241;43m=\u001b[39;49m\u001b[43mstorage_options\u001b[49m\u001b[43m)\u001b[49m\n\u001b[1;32m     61\u001b[0m     catalog_info_keywords \u001b[38;5;241m=\u001b[39m {}\n\u001b[1;32m     62\u001b[0m     \u001b[38;5;28;01mfor\u001b[39;00m field \u001b[38;5;129;01min\u001b[39;00m dataclasses\u001b[38;5;241m.\u001b[39mfields(\u001b[38;5;28mcls\u001b[39m):\n",
      "File \u001b[0;32m~/anaconda3/envs/lsdb/lib/python3.12/site-packages/hipscat/io/file_io/file_io.py:128\u001b[0m, in \u001b[0;36mload_json_file\u001b[0;34m(file_pointer, encoding, storage_options)\u001b[0m\n\u001b[1;32m    126\u001b[0m json_dict \u001b[38;5;241m=\u001b[39m \u001b[38;5;28;01mNone\u001b[39;00m\n\u001b[1;32m    127\u001b[0m file_system, file_pointer \u001b[38;5;241m=\u001b[39m get_fs(file_pointer, storage_options)\n\u001b[0;32m--> 128\u001b[0m \u001b[38;5;28;01mwith\u001b[39;00m \u001b[43mfile_system\u001b[49m\u001b[38;5;241;43m.\u001b[39;49m\u001b[43mopen\u001b[49m\u001b[43m(\u001b[49m\u001b[43mfile_pointer\u001b[49m\u001b[43m,\u001b[49m\u001b[43m \u001b[49m\u001b[38;5;124;43m\"\u001b[39;49m\u001b[38;5;124;43mr\u001b[39;49m\u001b[38;5;124;43m\"\u001b[39;49m\u001b[43m,\u001b[49m\u001b[43m \u001b[49m\u001b[43mencoding\u001b[49m\u001b[38;5;241;43m=\u001b[39;49m\u001b[43mencoding\u001b[49m\u001b[43m)\u001b[49m \u001b[38;5;28;01mas\u001b[39;00m json_file:\n\u001b[1;32m    129\u001b[0m     json_dict \u001b[38;5;241m=\u001b[39m json\u001b[38;5;241m.\u001b[39mload(json_file)\n\u001b[1;32m    131\u001b[0m \u001b[38;5;28;01mreturn\u001b[39;00m json_dict\n",
      "File \u001b[0;32m~/anaconda3/envs/lsdb/lib/python3.12/site-packages/fsspec/spec.py:1291\u001b[0m, in \u001b[0;36mAbstractFileSystem.open\u001b[0;34m(self, path, mode, block_size, cache_options, compression, **kwargs)\u001b[0m\n\u001b[1;32m   1283\u001b[0m     mode \u001b[38;5;241m=\u001b[39m mode\u001b[38;5;241m.\u001b[39mreplace(\u001b[38;5;124m\"\u001b[39m\u001b[38;5;124mt\u001b[39m\u001b[38;5;124m\"\u001b[39m, \u001b[38;5;124m\"\u001b[39m\u001b[38;5;124m\"\u001b[39m) \u001b[38;5;241m+\u001b[39m \u001b[38;5;124m\"\u001b[39m\u001b[38;5;124mb\u001b[39m\u001b[38;5;124m\"\u001b[39m\n\u001b[1;32m   1285\u001b[0m     text_kwargs \u001b[38;5;241m=\u001b[39m {\n\u001b[1;32m   1286\u001b[0m         k: kwargs\u001b[38;5;241m.\u001b[39mpop(k)\n\u001b[1;32m   1287\u001b[0m         \u001b[38;5;28;01mfor\u001b[39;00m k \u001b[38;5;129;01min\u001b[39;00m [\u001b[38;5;124m\"\u001b[39m\u001b[38;5;124mencoding\u001b[39m\u001b[38;5;124m\"\u001b[39m, \u001b[38;5;124m\"\u001b[39m\u001b[38;5;124merrors\u001b[39m\u001b[38;5;124m\"\u001b[39m, \u001b[38;5;124m\"\u001b[39m\u001b[38;5;124mnewline\u001b[39m\u001b[38;5;124m\"\u001b[39m]\n\u001b[1;32m   1288\u001b[0m         \u001b[38;5;28;01mif\u001b[39;00m k \u001b[38;5;129;01min\u001b[39;00m kwargs\n\u001b[1;32m   1289\u001b[0m     }\n\u001b[1;32m   1290\u001b[0m     \u001b[38;5;28;01mreturn\u001b[39;00m io\u001b[38;5;241m.\u001b[39mTextIOWrapper(\n\u001b[0;32m-> 1291\u001b[0m         \u001b[38;5;28;43mself\u001b[39;49m\u001b[38;5;241;43m.\u001b[39;49m\u001b[43mopen\u001b[49m\u001b[43m(\u001b[49m\n\u001b[1;32m   1292\u001b[0m \u001b[43m            \u001b[49m\u001b[43mpath\u001b[49m\u001b[43m,\u001b[49m\n\u001b[1;32m   1293\u001b[0m \u001b[43m            \u001b[49m\u001b[43mmode\u001b[49m\u001b[43m,\u001b[49m\n\u001b[1;32m   1294\u001b[0m \u001b[43m            \u001b[49m\u001b[43mblock_size\u001b[49m\u001b[38;5;241;43m=\u001b[39;49m\u001b[43mblock_size\u001b[49m\u001b[43m,\u001b[49m\n\u001b[1;32m   1295\u001b[0m \u001b[43m            \u001b[49m\u001b[43mcache_options\u001b[49m\u001b[38;5;241;43m=\u001b[39;49m\u001b[43mcache_options\u001b[49m\u001b[43m,\u001b[49m\n\u001b[1;32m   1296\u001b[0m \u001b[43m            \u001b[49m\u001b[43mcompression\u001b[49m\u001b[38;5;241;43m=\u001b[39;49m\u001b[43mcompression\u001b[49m\u001b[43m,\u001b[49m\n\u001b[1;32m   1297\u001b[0m \u001b[43m            \u001b[49m\u001b[38;5;241;43m*\u001b[39;49m\u001b[38;5;241;43m*\u001b[39;49m\u001b[43mkwargs\u001b[49m\u001b[43m,\u001b[49m\n\u001b[1;32m   1298\u001b[0m \u001b[43m        \u001b[49m\u001b[43m)\u001b[49m,\n\u001b[1;32m   1299\u001b[0m         \u001b[38;5;241m*\u001b[39m\u001b[38;5;241m*\u001b[39mtext_kwargs,\n\u001b[1;32m   1300\u001b[0m     )\n\u001b[1;32m   1301\u001b[0m \u001b[38;5;28;01melse\u001b[39;00m:\n\u001b[1;32m   1302\u001b[0m     ac \u001b[38;5;241m=\u001b[39m kwargs\u001b[38;5;241m.\u001b[39mpop(\u001b[38;5;124m\"\u001b[39m\u001b[38;5;124mautocommit\u001b[39m\u001b[38;5;124m\"\u001b[39m, \u001b[38;5;129;01mnot\u001b[39;00m \u001b[38;5;28mself\u001b[39m\u001b[38;5;241m.\u001b[39m_intrans)\n",
      "File \u001b[0;32m~/anaconda3/envs/lsdb/lib/python3.12/site-packages/fsspec/spec.py:1303\u001b[0m, in \u001b[0;36mAbstractFileSystem.open\u001b[0;34m(self, path, mode, block_size, cache_options, compression, **kwargs)\u001b[0m\n\u001b[1;32m   1301\u001b[0m \u001b[38;5;28;01melse\u001b[39;00m:\n\u001b[1;32m   1302\u001b[0m     ac \u001b[38;5;241m=\u001b[39m kwargs\u001b[38;5;241m.\u001b[39mpop(\u001b[38;5;124m\"\u001b[39m\u001b[38;5;124mautocommit\u001b[39m\u001b[38;5;124m\"\u001b[39m, \u001b[38;5;129;01mnot\u001b[39;00m \u001b[38;5;28mself\u001b[39m\u001b[38;5;241m.\u001b[39m_intrans)\n\u001b[0;32m-> 1303\u001b[0m     f \u001b[38;5;241m=\u001b[39m \u001b[38;5;28;43mself\u001b[39;49m\u001b[38;5;241;43m.\u001b[39;49m\u001b[43m_open\u001b[49m\u001b[43m(\u001b[49m\n\u001b[1;32m   1304\u001b[0m \u001b[43m        \u001b[49m\u001b[43mpath\u001b[49m\u001b[43m,\u001b[49m\n\u001b[1;32m   1305\u001b[0m \u001b[43m        \u001b[49m\u001b[43mmode\u001b[49m\u001b[38;5;241;43m=\u001b[39;49m\u001b[43mmode\u001b[49m\u001b[43m,\u001b[49m\n\u001b[1;32m   1306\u001b[0m \u001b[43m        \u001b[49m\u001b[43mblock_size\u001b[49m\u001b[38;5;241;43m=\u001b[39;49m\u001b[43mblock_size\u001b[49m\u001b[43m,\u001b[49m\n\u001b[1;32m   1307\u001b[0m \u001b[43m        \u001b[49m\u001b[43mautocommit\u001b[49m\u001b[38;5;241;43m=\u001b[39;49m\u001b[43mac\u001b[49m\u001b[43m,\u001b[49m\n\u001b[1;32m   1308\u001b[0m \u001b[43m        \u001b[49m\u001b[43mcache_options\u001b[49m\u001b[38;5;241;43m=\u001b[39;49m\u001b[43mcache_options\u001b[49m\u001b[43m,\u001b[49m\n\u001b[1;32m   1309\u001b[0m \u001b[43m        \u001b[49m\u001b[38;5;241;43m*\u001b[39;49m\u001b[38;5;241;43m*\u001b[39;49m\u001b[43mkwargs\u001b[49m\u001b[43m,\u001b[49m\n\u001b[1;32m   1310\u001b[0m \u001b[43m    \u001b[49m\u001b[43m)\u001b[49m\n\u001b[1;32m   1311\u001b[0m     \u001b[38;5;28;01mif\u001b[39;00m compression \u001b[38;5;129;01mis\u001b[39;00m \u001b[38;5;129;01mnot\u001b[39;00m \u001b[38;5;28;01mNone\u001b[39;00m:\n\u001b[1;32m   1312\u001b[0m         \u001b[38;5;28;01mfrom\u001b[39;00m \u001b[38;5;21;01mfsspec\u001b[39;00m\u001b[38;5;21;01m.\u001b[39;00m\u001b[38;5;21;01mcompression\u001b[39;00m \u001b[38;5;28;01mimport\u001b[39;00m compr\n",
      "File \u001b[0;32m~/anaconda3/envs/lsdb/lib/python3.12/site-packages/fsspec/implementations/http.py:361\u001b[0m, in \u001b[0;36mHTTPFileSystem._open\u001b[0;34m(self, path, mode, block_size, autocommit, cache_type, cache_options, size, **kwargs)\u001b[0m\n\u001b[1;32m    359\u001b[0m kw[\u001b[38;5;124m\"\u001b[39m\u001b[38;5;124masynchronous\u001b[39m\u001b[38;5;124m\"\u001b[39m] \u001b[38;5;241m=\u001b[39m \u001b[38;5;28mself\u001b[39m\u001b[38;5;241m.\u001b[39masynchronous\n\u001b[1;32m    360\u001b[0m kw\u001b[38;5;241m.\u001b[39mupdate(kwargs)\n\u001b[0;32m--> 361\u001b[0m size \u001b[38;5;241m=\u001b[39m size \u001b[38;5;129;01mor\u001b[39;00m \u001b[38;5;28;43mself\u001b[39;49m\u001b[38;5;241;43m.\u001b[39;49m\u001b[43minfo\u001b[49m\u001b[43m(\u001b[49m\u001b[43mpath\u001b[49m\u001b[43m,\u001b[49m\u001b[43m \u001b[49m\u001b[38;5;241;43m*\u001b[39;49m\u001b[38;5;241;43m*\u001b[39;49m\u001b[43mkwargs\u001b[49m\u001b[43m)\u001b[49m[\u001b[38;5;124m\"\u001b[39m\u001b[38;5;124msize\u001b[39m\u001b[38;5;124m\"\u001b[39m]\n\u001b[1;32m    362\u001b[0m session \u001b[38;5;241m=\u001b[39m sync(\u001b[38;5;28mself\u001b[39m\u001b[38;5;241m.\u001b[39mloop, \u001b[38;5;28mself\u001b[39m\u001b[38;5;241m.\u001b[39mset_session)\n\u001b[1;32m    363\u001b[0m \u001b[38;5;28;01mif\u001b[39;00m block_size \u001b[38;5;129;01mand\u001b[39;00m size:\n",
      "File \u001b[0;32m~/anaconda3/envs/lsdb/lib/python3.12/site-packages/fsspec/asyn.py:118\u001b[0m, in \u001b[0;36msync_wrapper.<locals>.wrapper\u001b[0;34m(*args, **kwargs)\u001b[0m\n\u001b[1;32m    115\u001b[0m \u001b[38;5;129m@functools\u001b[39m\u001b[38;5;241m.\u001b[39mwraps(func)\n\u001b[1;32m    116\u001b[0m \u001b[38;5;28;01mdef\u001b[39;00m \u001b[38;5;21mwrapper\u001b[39m(\u001b[38;5;241m*\u001b[39margs, \u001b[38;5;241m*\u001b[39m\u001b[38;5;241m*\u001b[39mkwargs):\n\u001b[1;32m    117\u001b[0m     \u001b[38;5;28mself\u001b[39m \u001b[38;5;241m=\u001b[39m obj \u001b[38;5;129;01mor\u001b[39;00m args[\u001b[38;5;241m0\u001b[39m]\n\u001b[0;32m--> 118\u001b[0m     \u001b[38;5;28;01mreturn\u001b[39;00m \u001b[43msync\u001b[49m\u001b[43m(\u001b[49m\u001b[38;5;28;43mself\u001b[39;49m\u001b[38;5;241;43m.\u001b[39;49m\u001b[43mloop\u001b[49m\u001b[43m,\u001b[49m\u001b[43m \u001b[49m\u001b[43mfunc\u001b[49m\u001b[43m,\u001b[49m\u001b[43m \u001b[49m\u001b[38;5;241;43m*\u001b[39;49m\u001b[43margs\u001b[49m\u001b[43m,\u001b[49m\u001b[43m \u001b[49m\u001b[38;5;241;43m*\u001b[39;49m\u001b[38;5;241;43m*\u001b[39;49m\u001b[43mkwargs\u001b[49m\u001b[43m)\u001b[49m\n",
      "File \u001b[0;32m~/anaconda3/envs/lsdb/lib/python3.12/site-packages/fsspec/asyn.py:103\u001b[0m, in \u001b[0;36msync\u001b[0;34m(loop, func, timeout, *args, **kwargs)\u001b[0m\n\u001b[1;32m    101\u001b[0m     \u001b[38;5;28;01mraise\u001b[39;00m FSTimeoutError \u001b[38;5;28;01mfrom\u001b[39;00m \u001b[38;5;21;01mreturn_result\u001b[39;00m\n\u001b[1;32m    102\u001b[0m \u001b[38;5;28;01melif\u001b[39;00m \u001b[38;5;28misinstance\u001b[39m(return_result, \u001b[38;5;167;01mBaseException\u001b[39;00m):\n\u001b[0;32m--> 103\u001b[0m     \u001b[38;5;28;01mraise\u001b[39;00m return_result\n\u001b[1;32m    104\u001b[0m \u001b[38;5;28;01melse\u001b[39;00m:\n\u001b[1;32m    105\u001b[0m     \u001b[38;5;28;01mreturn\u001b[39;00m return_result\n",
      "File \u001b[0;32m~/anaconda3/envs/lsdb/lib/python3.12/site-packages/fsspec/asyn.py:56\u001b[0m, in \u001b[0;36m_runner\u001b[0;34m(event, coro, result, timeout)\u001b[0m\n\u001b[1;32m     54\u001b[0m     coro \u001b[38;5;241m=\u001b[39m asyncio\u001b[38;5;241m.\u001b[39mwait_for(coro, timeout\u001b[38;5;241m=\u001b[39mtimeout)\n\u001b[1;32m     55\u001b[0m \u001b[38;5;28;01mtry\u001b[39;00m:\n\u001b[0;32m---> 56\u001b[0m     result[\u001b[38;5;241m0\u001b[39m] \u001b[38;5;241m=\u001b[39m \u001b[38;5;28;01mawait\u001b[39;00m coro\n\u001b[1;32m     57\u001b[0m \u001b[38;5;28;01mexcept\u001b[39;00m \u001b[38;5;167;01mException\u001b[39;00m \u001b[38;5;28;01mas\u001b[39;00m ex:\n\u001b[1;32m     58\u001b[0m     result[\u001b[38;5;241m0\u001b[39m] \u001b[38;5;241m=\u001b[39m ex\n",
      "File \u001b[0;32m~/anaconda3/envs/lsdb/lib/python3.12/site-packages/fsspec/implementations/http.py:435\u001b[0m, in \u001b[0;36mHTTPFileSystem._info\u001b[0;34m(self, url, **kwargs)\u001b[0m\n\u001b[1;32m    432\u001b[0m     \u001b[38;5;28;01mexcept\u001b[39;00m \u001b[38;5;167;01mException\u001b[39;00m \u001b[38;5;28;01mas\u001b[39;00m exc:\n\u001b[1;32m    433\u001b[0m         \u001b[38;5;28;01mif\u001b[39;00m policy \u001b[38;5;241m==\u001b[39m \u001b[38;5;124m\"\u001b[39m\u001b[38;5;124mget\u001b[39m\u001b[38;5;124m\"\u001b[39m:\n\u001b[1;32m    434\u001b[0m             \u001b[38;5;66;03m# If get failed, then raise a FileNotFoundError\u001b[39;00m\n\u001b[0;32m--> 435\u001b[0m             \u001b[38;5;28;01mraise\u001b[39;00m \u001b[38;5;167;01mFileNotFoundError\u001b[39;00m(url) \u001b[38;5;28;01mfrom\u001b[39;00m \u001b[38;5;21;01mexc\u001b[39;00m\n\u001b[1;32m    436\u001b[0m         logger\u001b[38;5;241m.\u001b[39mdebug(\u001b[38;5;124m\"\u001b[39m\u001b[38;5;124m\"\u001b[39m, exc_info\u001b[38;5;241m=\u001b[39mexc)\n\u001b[1;32m    438\u001b[0m \u001b[38;5;28;01mreturn\u001b[39;00m {\u001b[38;5;124m\"\u001b[39m\u001b[38;5;124mname\u001b[39m\u001b[38;5;124m\"\u001b[39m: url, \u001b[38;5;124m\"\u001b[39m\u001b[38;5;124msize\u001b[39m\u001b[38;5;124m\"\u001b[39m: \u001b[38;5;28;01mNone\u001b[39;00m, \u001b[38;5;241m*\u001b[39m\u001b[38;5;241m*\u001b[39minfo, \u001b[38;5;124m\"\u001b[39m\u001b[38;5;124mtype\u001b[39m\u001b[38;5;124m\"\u001b[39m: \u001b[38;5;124m\"\u001b[39m\u001b[38;5;124mfile\u001b[39m\u001b[38;5;124m\"\u001b[39m}\n",
      "\u001b[0;31mFileNotFoundError\u001b[0m: https://splus.cloud/HIPS/catalogs/dr4/dual_2arcsec/catalog_info.json"
     ]
    }
   ],
   "source": [
    "dr4_margin = lsdb.read_hipscat(dr4_links[1])\n",
    "for i in dr4_margin.columns:\n",
    "    print(i)"
   ]
  },
  {
   "cell_type": "code",
   "execution_count": null,
   "id": "4de349b4-8cc4-4324-ad9a-779fa7f26031",
   "metadata": {},
   "outputs": [],
   "source": [
    "dual = lsdb.read_hipscat(\n",
    "                dr4_links[0],\n",
    "                margin_cache=dr4_margin,\n",
    "                columns = [\"Field\", \"ID\", \"RA\", \"DEC\", \n",
    "                           \"X\", \"Y\", \"A\", \"B\", \"ELLIPTICITY\", \"ELONGATION\",\n",
    "                           \"FWHM\", \"KRON_RADIUS\", \"ISOarea\", \"MU_MAX_r\", \"MU_MAX_J0660\", \"MU_MAX_i\", \"s2n_DET_PStotal\",\n",
    "                           \"s2n_g_PStotal\", \"s2n_J0515_PStotal\", \"s2n_r_PStotal\", \"s2n_J0660_PStotal\", \"s2n_i_PStotal\", \n",
    "                            \"SEX_FLAGS_DET\", \"SEX_FLAGS_r\", \"SEX_FLAGS_J0660\", \"SEX_FLAGS_i\",\n",
    "                            \"r_PStotal\", \"e_r_PStotal\",\n",
    "                            \"g_PStotal\", \"e_g_PStotal\",\n",
    "                            \"i_PStotal\", \"e_i_PStotal\",\n",
    "                            \"u_PStotal\", \"e_u_PStotal\",\n",
    "                            \"z_PStotal\", \"e_z_PStotal\",\n",
    "                            \"J0378_PStotal\", \"e_J0378_PStotal\",\n",
    "                            \"J0395_PStotal\", \"e_J0395_PStotal\",\n",
    "                            \"J0410_PStotal\", \"e_J0410_PStotal\",\n",
    "                            \"J0430_PStotal\", \"e_J0430_PStotal\",\n",
    "                            \"J0515_PStotal\", \"e_J0515_PStotal\",\n",
    "                            \"J0660_PStotal\", \"e_J0660_PStotal\",\n",
    "                            \"J0861_PStotal\", \"e_J0861_PStotal\",]\n",
    "                                        )"
   ]
  },
  {
   "cell_type": "markdown",
   "id": "673f2990-6009-4ee1-92df-13813737630c",
   "metadata": {},
   "source": [
    "### PSF"
   ]
  },
  {
   "cell_type": "code",
   "execution_count": null,
   "id": "28b5c191-98fe-4a82-95a7-2813e66c1d4a",
   "metadata": {},
   "outputs": [],
   "source": [
    "dr4_psf = splusdata.get_hipscats(\"dr4/psf\")[0]\n",
    "psf_margin = lsdb.read_hipscat(dr4_psf[1])\n",
    "for i in psf_margin.columns:\n",
    "    print(i)"
   ]
  },
  {
   "cell_type": "code",
   "execution_count": null,
   "id": "a458df86-bf9f-4589-99a5-b16a006afe3c",
   "metadata": {},
   "outputs": [],
   "source": [
    "psf = lsdb.read_hipscat(\n",
    "       dr4_psf[0],\n",
    "       margin_cache=psf_margin,\n",
    "        columns = [\"RA\", \"DEC\", \"r_psf\", \"e_r_psf\",\n",
    "                    \"g_psf\", \"e_g_psf\",\n",
    "                    \"i_psf\", \"e_i_psf\",\n",
    "                    \"u_psf\", \"e_u_psf\",\n",
    "                    \"z_psf\", \"e_z_psf\",\n",
    "                    \"J0378_psf\", \"e_J0378_psf\",\n",
    "                    \"J0395_psf\", \"e_J0395_psf\",\n",
    "                    \"J0410_psf\", \"e_J0410_psf\",\n",
    "                    \"J0430_psf\", \"e_J0430_psf\",\n",
    "                    \"J0515_psf\", \"e_J0515_psf\",\n",
    "                    \"J0660_psf\", \"e_J0660_psf\",\n",
    "                    \"J0861_psf\", \"e_J0861_psf\",])"
   ]
  },
  {
   "cell_type": "code",
   "execution_count": null,
   "id": "17a1156a-7f2e-4f6a-a92c-4cf91ea205f8",
   "metadata": {},
   "outputs": [],
   "source": [
    "print(psf.columns) "
   ]
  },
  {
   "cell_type": "markdown",
   "id": "563df134-d685-4baf-af9a-43c5fb0181ef",
   "metadata": {},
   "source": [
    "#### Matching two hipscat tables"
   ]
  },
  {
   "cell_type": "code",
   "execution_count": null,
   "id": "763496ee-6b7b-431a-a936-4c256d1b28aa",
   "metadata": {},
   "outputs": [],
   "source": [
    "dual_psf = psf.crossmatch(dual, radius_arcsec = 2)"
   ]
  },
  {
   "cell_type": "markdown",
   "id": "7773a6b6-5837-443f-87e6-7fab6490b26b",
   "metadata": {},
   "source": [
    "#### Matching an external table with hipscat"
   ]
  },
  {
   "cell_type": "code",
   "execution_count": null,
   "id": "357342c3-51be-4f96-95b9-cb9bbebb900f",
   "metadata": {},
   "outputs": [],
   "source": [
    "# GALEX table\n",
    "df = pd.read_csv(\"../GUVcat_AISxSDSS_HSmaster.csv\") # load your table"
   ]
  },
  {
   "cell_type": "code",
   "execution_count": null,
   "id": "6d16fffb-d713-4753-90a3-a0817e727ecb",
   "metadata": {},
   "outputs": [],
   "source": [
    "# Scatter the DataFrame to distribute it across workers\n",
    "df_scattered = client.scatter(df)"
   ]
  },
  {
   "cell_type": "code",
   "execution_count": null,
   "id": "5920743c-10ce-4069-b949-1731ccbabe9d",
   "metadata": {},
   "outputs": [],
   "source": [
    "# Load the DataFrame into lsdb\n",
    "df_hips = lsdb.from_dataframe(df, ra_column=\"GALEX_RA\", dec_column=\"GALEX_DEC\", margin_threshold=3600)"
   ]
  },
  {
   "cell_type": "code",
   "execution_count": null,
   "id": "36b82b47-9d71-4bf8-80f2-3a9e0f0a4699",
   "metadata": {},
   "outputs": [],
   "source": [
    "# matching with dual catalog (instantiated earlier)--dual\n",
    "matched_table_dual = df_hips.crossmatch(dual, radius_arcsec = 2).compute()"
   ]
  },
  {
   "cell_type": "code",
   "execution_count": null,
   "id": "5b8cf870-4477-4867-aab5-be1fcc7aac31",
   "metadata": {},
   "outputs": [],
   "source": [
    "# Save DataFrame to CSV or other formats\n",
    "matched_table_dual.to_csv(\"../GUVcat_AISxSDSS_HSmaster-splusDr4-dual-2arcsec-lsdb.csv\", index=False)"
   ]
  },
  {
   "cell_type": "code",
   "execution_count": null,
   "id": "9ab9467c-7c0d-4579-846b-96ac9f42fc44",
   "metadata": {},
   "outputs": [],
   "source": []
  },
  {
   "cell_type": "code",
   "execution_count": null,
   "id": "07c97f86-3441-4423-a639-2ad65ed48c77",
   "metadata": {},
   "outputs": [],
   "source": [
    "# matching with dual catalog (instantiated earlier)--psf\n",
    "matched_table_psf = df_hips.crossmatch(psf, radius_arcsec = 2).compute()"
   ]
  },
  {
   "cell_type": "code",
   "execution_count": null,
   "id": "b69a70ab-2759-45c3-8eb1-80ea87f14b73",
   "metadata": {},
   "outputs": [],
   "source": []
  },
  {
   "cell_type": "code",
   "execution_count": null,
   "id": "9456b58b-99f6-46a7-80d2-aee10a34dd32",
   "metadata": {},
   "outputs": [],
   "source": [
    "# Save DataFrame to CSV or other formats\n",
    "matched_table_psf.to_csv(\"../GUVcat_AISxSDSS_HSmaster-splusDr4-psf-2arcsec-lsdb.csv\", index=False)"
   ]
  },
  {
   "cell_type": "code",
   "execution_count": null,
   "id": "0729cfa8-99bf-428d-ad57-3a9adc33d9d1",
   "metadata": {},
   "outputs": [],
   "source": []
  }
 ],
 "metadata": {
  "kernelspec": {
   "display_name": "Python 3 (ipykernel)",
   "language": "python",
   "name": "python3"
  },
  "language_info": {
   "codemirror_mode": {
    "name": "ipython",
    "version": 3
   },
   "file_extension": ".py",
   "mimetype": "text/x-python",
   "name": "python",
   "nbconvert_exporter": "python",
   "pygments_lexer": "ipython3",
   "version": "3.12.5"
  }
 },
 "nbformat": 4,
 "nbformat_minor": 5
}

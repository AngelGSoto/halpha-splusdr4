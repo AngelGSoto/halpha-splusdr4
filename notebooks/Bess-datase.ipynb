{
 "cells": [
  {
   "cell_type": "code",
   "execution_count": 44,
   "id": "1e13cab7-5707-4f8a-bb61-1f2cfbebd100",
   "metadata": {},
   "outputs": [
    {
     "name": "stdout",
     "output_type": "stream",
     "text": [
      "No se encontró ninguna tabla en el archivo HTML.\n"
     ]
    }
   ],
   "source": [
    "import pandas as pd\n",
    "from bs4 import BeautifulSoup\n",
    "\n",
    "# Ruta al archivo HTML local\n",
    "file_path = '../Be-stars/BeSS Database.html'\n",
    "\n",
    "# Leer el contenido del archivo HTML\n",
    "with open(file_path, 'r', encoding='utf-8') as file:\n",
    "    html_content = file.read()\n",
    "\n",
    "# Analizar el contenido del archivo HTML con BeautifulSoup\n",
    "soup = BeautifulSoup(html_content, 'html.parser')\n",
    "\n",
    "# Intentar encontrar la tabla en el HTML\n",
    "table = soup.find('table')\n",
    "if not table:\n",
    "    # Si no se encuentra la tabla, intentar buscar con más especificidad\n",
    "    table = soup.find('table', {'class': 'nombre_de_clase'} or {'id': 'identificador_de_tabla'})\n",
    "    # Asegúrate de reemplazar 'nombre_de_clase' e 'identificador_de_tabla' por los valores reales si existen\n",
    "\n",
    "if table:\n",
    "    # Extraer los datos de la tabla\n",
    "    rows = table.find_all('tr')\n",
    "    data = []\n",
    "    headers = [header.text for header in rows[0].find_all('th')]\n",
    "\n",
    "    for row in rows[1:]:\n",
    "        cells = row.find_all('td')\n",
    "        data.append([cell.text.strip() for cell in cells])\n",
    "\n",
    "    # Convertir los datos a un DataFrame de pandas\n",
    "    df = pd.DataFrame(data, columns=headers)\n",
    "\n",
    "    # Guardar el DataFrame en un archivo CSV\n",
    "    df.to_csv('bess_catalog.csv', index=False)\n",
    "    print(\"Datos guardados en 'bess_catalog.csv'.\")\n",
    "else:\n",
    "    print(\"No se encontró ninguna tabla en el archivo HTML.\")"
   ]
  },
  {
   "cell_type": "code",
   "execution_count": null,
   "id": "41183f3e-0ba8-44c3-ae5e-84de88b607f8",
   "metadata": {},
   "outputs": [],
   "source": []
  },
  {
   "cell_type": "code",
   "execution_count": null,
   "id": "ae809fd8-2c9d-4661-b310-f644e277d4b6",
   "metadata": {},
   "outputs": [],
   "source": [
    "\n"
   ]
  },
  {
   "cell_type": "code",
   "execution_count": null,
   "id": "b414ae0a-57dd-4107-8ece-2d11514b1e52",
   "metadata": {},
   "outputs": [],
   "source": []
  },
  {
   "cell_type": "code",
   "execution_count": null,
   "id": "8ac557e4-f3c1-4a5b-86d9-dc0dd0ea8eb6",
   "metadata": {},
   "outputs": [],
   "source": []
  },
  {
   "cell_type": "code",
   "execution_count": null,
   "id": "c6f1dfe2-f8a7-4762-9750-48f62f7f708a",
   "metadata": {},
   "outputs": [],
   "source": []
  },
  {
   "cell_type": "code",
   "execution_count": null,
   "id": "e84b480f-1eec-4a03-a96b-d34c73422d65",
   "metadata": {},
   "outputs": [],
   "source": []
  }
 ],
 "metadata": {
  "kernelspec": {
   "display_name": "Python 3 (ipykernel)",
   "language": "python",
   "name": "python3"
  },
  "language_info": {
   "codemirror_mode": {
    "name": "ipython",
    "version": 3
   },
   "file_extension": ".py",
   "mimetype": "text/x-python",
   "name": "python",
   "nbconvert_exporter": "python",
   "pygments_lexer": "ipython3",
   "version": "3.12.4"
  }
 },
 "nbformat": 4,
 "nbformat_minor": 5
}

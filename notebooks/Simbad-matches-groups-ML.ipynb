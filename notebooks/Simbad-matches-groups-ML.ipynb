{
 "cells": [
  {
   "cell_type": "code",
   "execution_count": 1,
   "id": "a787e506",
   "metadata": {},
   "outputs": [],
   "source": [
    "from astropy.io import fits\n",
    "import numpy as np\n",
    "from astropy.table import Table\n",
    "import pandas as pd\n",
    "import glob\n",
    "from astropy.table import vstack\n",
    "import seaborn as sns"
   ]
  },
  {
   "cell_type": "code",
   "execution_count": 2,
   "id": "b9d20a24",
   "metadata": {},
   "outputs": [],
   "source": [
    "def simad_type(Path, file_):\n",
    "    df = pd.read_csv(Path + file_)\n",
    "    print(file_.split(\"emitter_\")[-1].split(\"-sim\")[0], \", Number of object:\", len(df))\n",
    "    dict_simbad_ = df[\"main_type\"].value_counts().to_dict()\n",
    "    return dict_simbad_"
   ]
  },
  {
   "cell_type": "markdown",
   "id": "a19643df",
   "metadata": {},
   "source": [
    "# Main survey"
   ]
  },
  {
   "cell_type": "markdown",
   "id": "1b17ccd5",
   "metadata": {},
   "source": [
    "## Just splus colors "
   ]
  },
  {
   "cell_type": "code",
   "execution_count": 3,
   "id": "7da7d748",
   "metadata": {},
   "outputs": [
    {
     "name": "stdout",
     "output_type": "stream",
     "text": [
      "group0 , Number of object: 22\n"
     ]
    },
    {
     "data": {
      "text/plain": [
       "{'QSO': 19, 'Galaxy': 1, 'Radio': 1, 'QSO_Candidate': 1}"
      ]
     },
     "execution_count": 3,
     "metadata": {},
     "output_type": "execute_result"
    }
   ],
   "source": [
    "g0 = simad_type(\"../Class_main_unique/\", \"Halpha_emitter_group0-simbad.csv\")\n",
    "g0"
   ]
  },
  {
   "cell_type": "code",
   "execution_count": 4,
   "id": "f2880aaa",
   "metadata": {},
   "outputs": [
    {
     "name": "stdout",
     "output_type": "stream",
     "text": [
      "group1 , Number of object: 149\n"
     ]
    },
    {
     "data": {
      "text/plain": [
       "{'RRLyr': 107,\n",
       " 'EB*': 19,\n",
       " 'PulsV*': 9,\n",
       " 'PulsV*delSct': 6,\n",
       " 'QSO': 2,\n",
       " 'Star': 2,\n",
       " 'RotV*': 1,\n",
       " 'EB*_Candidate': 1,\n",
       " 'SB*_Candidate': 1,\n",
       " 'BlueStraggler': 1}"
      ]
     },
     "execution_count": 4,
     "metadata": {},
     "output_type": "execute_result"
    }
   ],
   "source": [
    "g1 = simad_type(\"../Class_main_unique/\", \"Halpha_emitter_group1-simbad.csv\")\n",
    "g1"
   ]
  },
  {
   "cell_type": "code",
   "execution_count": 5,
   "id": "471f8973",
   "metadata": {},
   "outputs": [
    {
     "name": "stdout",
     "output_type": "stream",
     "text": [
      "group2 , Number of object: 323\n"
     ]
    },
    {
     "data": {
      "text/plain": [
       "{'EB*': 275,\n",
       " 'EB*_Candidate': 11,\n",
       " 'Star': 10,\n",
       " 'QSO': 9,\n",
       " 'CV*_Candidate': 3,\n",
       " 'V*': 3,\n",
       " 'Pec*': 2,\n",
       " 'RRLyr': 2,\n",
       " 'low-mass*': 2,\n",
       " 'AGB*': 1,\n",
       " 'CataclyV*': 1,\n",
       " 'PulsV*delSct': 1,\n",
       " 'PulsV*': 1,\n",
       " 'RotV*': 1,\n",
       " 'RSCVn': 1}"
      ]
     },
     "execution_count": 5,
     "metadata": {},
     "output_type": "execute_result"
    }
   ],
   "source": [
    "g2 = simad_type(\"../Class_main_unique/\", \"Halpha_emitter_group2-simbad.csv\")\n",
    "g2"
   ]
  },
  {
   "cell_type": "code",
   "execution_count": 46,
   "id": "2b5585fa",
   "metadata": {},
   "outputs": [
    {
     "name": "stdout",
     "output_type": "stream",
     "text": [
      "group3 , Number of object: 42\n"
     ]
    },
    {
     "data": {
      "text/plain": [
       "{'QSO': 17,\n",
       " 'Seyfert_1': 10,\n",
       " 'AGN_Candidate': 6,\n",
       " 'Galaxy': 3,\n",
       " 'AGN': 3,\n",
       " 'Radio': 2,\n",
       " 'RadioG': 1}"
      ]
     },
     "execution_count": 46,
     "metadata": {},
     "output_type": "execute_result"
    }
   ],
   "source": [
    "g3 = simad_type(\"../Class_main_unique/\", \"Halpha_emitter_group3-simbad.csv\")\n",
    "g3"
   ]
  },
  {
   "cell_type": "code",
   "execution_count": 6,
   "id": "0d4c41e3-ca29-40bd-ba2c-16c783816b1f",
   "metadata": {},
   "outputs": [
    {
     "name": "stdout",
     "output_type": "stream",
     "text": [
      "group4 , Number of object: 143\n"
     ]
    },
    {
     "data": {
      "text/plain": [
       "{'QSO': 78,\n",
       " 'CataclyV*': 25,\n",
       " 'Blue': 7,\n",
       " 'CV*_Candidate': 6,\n",
       " 'Star': 6,\n",
       " 'Hsd_Candidate': 4,\n",
       " 'AGN': 3,\n",
       " 'Radio': 3,\n",
       " 'WD*_Candidate': 3,\n",
       " 'RRLyr': 2,\n",
       " 'WD*': 2,\n",
       " 'Galaxy': 2,\n",
       " 'Seyfert_1': 1,\n",
       " 'EB*': 1}"
      ]
     },
     "execution_count": 6,
     "metadata": {},
     "output_type": "execute_result"
    }
   ],
   "source": [
    "g4 = simad_type(\"../Class_main_unique/\", \"Halpha_emitter_group4-simbad.csv\")\n",
    "g4"
   ]
  },
  {
   "cell_type": "code",
   "execution_count": null,
   "id": "6f0ce19b-e190-41da-a009-88d008951b5e",
   "metadata": {},
   "outputs": [],
   "source": []
  },
  {
   "cell_type": "markdown",
   "id": "d912a70f",
   "metadata": {},
   "source": [
    "## SPLSU + WISE"
   ]
  },
  {
   "cell_type": "code",
   "execution_count": 48,
   "id": "2185ace4",
   "metadata": {},
   "outputs": [
    {
     "name": "stdout",
     "output_type": "stream",
     "text": [
      "wise_group0 , Number of object: 424\n",
      "Group0 {'EB*': 262, 'RRLyr': 98, 'EB*_Candidate': 23, 'Star': 13, 'PulsV*': 8, 'V*': 4, 'RotV*': 3, 'QSO': 3, 'PulsV*delSct': 2, 'low-mass*': 2, 'Pec*': 2, 'CataclyV*': 1, 'CV*_Candidate': 1, 'AGB*': 1, 'SB*_Candidate': 1}\n"
     ]
    }
   ],
   "source": [
    "gw0 = simad_type(\"../Class_wise_main_unique/\", \"Halpha_emitter_wise_group0-simbad.csv\")\n",
    "print(\"Group0\", gw0)"
   ]
  },
  {
   "cell_type": "code",
   "execution_count": 49,
   "id": "0c2cda28",
   "metadata": {},
   "outputs": [
    {
     "name": "stdout",
     "output_type": "stream",
     "text": [
      "wise_group1 , Number of object: 23\n",
      "Group1 {'QSO': 20, 'Galaxy': 1, 'Radio': 1, 'QSO_Candidate': 1}\n"
     ]
    }
   ],
   "source": [
    "gw1 = simad_type(\"../Class_wise_main_unique/\", \"Halpha_emitter_wise_group1-simbad.csv\")\n",
    "print(\"Group1\", gw1)"
   ]
  },
  {
   "cell_type": "code",
   "execution_count": 50,
   "id": "a4c6dfc0",
   "metadata": {},
   "outputs": [
    {
     "name": "stdout",
     "output_type": "stream",
     "text": [
      "wise_group2 , Number of object: 43\n",
      "Group2 {'QSO': 18, 'Seyfert_1': 10, 'AGN_Candidate': 6, 'Galaxy': 3, 'AGN': 3, 'Radio': 2, 'RadioG': 1}\n"
     ]
    }
   ],
   "source": [
    "gw2 = simad_type(\"../Class_wise_main_unique/\", \"Halpha_emitter_wise_group2-simbad.csv\")\n",
    "print(\"Group2\",gw2)"
   ]
  },
  {
   "cell_type": "code",
   "execution_count": 51,
   "id": "6dd4361a",
   "metadata": {},
   "outputs": [
    {
     "name": "stdout",
     "output_type": "stream",
     "text": [
      "wise_group3 , Number of object: 36\n",
      "Gropu3 {'CataclyV*': 24, 'CV*_Candidate': 3, 'Hsd_Candidate': 3, 'WD*_Candidate': 3, 'RRLyr': 1, 'Seyfert_1': 1, 'Star': 1}\n"
     ]
    }
   ],
   "source": [
    "gw3 = simad_type(\"../Class_wise_main_unique/\", \"Halpha_emitter_wise_group3-simbad.csv\")\n",
    "print(\"Gropu3\", gw3)"
   ]
  },
  {
   "cell_type": "code",
   "execution_count": 52,
   "id": "80b3eed9",
   "metadata": {},
   "outputs": [
    {
     "name": "stdout",
     "output_type": "stream",
     "text": [
      "wise_group4 , Number of object: 100\n",
      "Gropu4 {'QSO': 83, 'Blue': 7, 'AGN': 3, 'Radio': 3, 'Star': 2, 'Galaxy': 2}\n"
     ]
    }
   ],
   "source": [
    "gw4 = simad_type(\"../Class_wise_main_unique/\", \"Halpha_emitter_wise_group4-simbad.csv\")\n",
    "print(\"Gropu4\", gw4)"
   ]
  },
  {
   "cell_type": "code",
   "execution_count": null,
   "id": "596a18cc",
   "metadata": {},
   "outputs": [],
   "source": []
  },
  {
   "cell_type": "code",
   "execution_count": null,
   "id": "7cf1d346",
   "metadata": {},
   "outputs": [],
   "source": []
  },
  {
   "cell_type": "markdown",
   "id": "347b7613-4c3f-445a-acf3-01a0bd567c29",
   "metadata": {},
   "source": [
    "# Disk "
   ]
  },
  {
   "cell_type": "markdown",
   "id": "79ec3acf-4343-4a03-8714-9ad2f9c502de",
   "metadata": {},
   "source": [
    "## Just SPLUS"
   ]
  },
  {
   "cell_type": "code",
   "execution_count": 25,
   "id": "ccad4fbf-610e-4161-890f-15ad31309d1d",
   "metadata": {},
   "outputs": [
    {
     "name": "stdout",
     "output_type": "stream",
     "text": [
      "Number of object: 29\n"
     ]
    },
    {
     "data": {
      "text/plain": [
       "{'Em*': 7,\n",
       " 'Star': 5,\n",
       " 'CataclyV*': 4,\n",
       " 'Hsd_Candidate': 3,\n",
       " 'V*': 2,\n",
       " 'WD*_Candidate': 2,\n",
       " 'CV*_Candidate': 1,\n",
       " 'RRLyr': 1,\n",
       " 'Transient': 1,\n",
       " 'X': 1,\n",
       " 'Nova': 1,\n",
       " 'PulsV*': 1}"
      ]
     },
     "execution_count": 25,
     "metadata": {},
     "output_type": "execute_result"
    }
   ],
   "source": [
    "gd0 = simad_type(\"../Class_disk-unique/\", \"Halpha_emitter_disk_group0_simbad.csv\")\n",
    "gd0"
   ]
  },
  {
   "cell_type": "code",
   "execution_count": 24,
   "id": "11233355-ed39-441e-95dc-759dbfd058a4",
   "metadata": {},
   "outputs": [
    {
     "name": "stdout",
     "output_type": "stream",
     "text": [
      "Number of object: 106\n"
     ]
    },
    {
     "data": {
      "text/plain": [
       "{'Em*': 58,\n",
       " 'YSO_Candidate': 29,\n",
       " 'Star': 7,\n",
       " 'LP*_Candidate': 3,\n",
       " 'RSCVn': 2,\n",
       " 'YSO': 2,\n",
       " 'EB*': 1,\n",
       " 'BYDra': 1,\n",
       " '**': 1,\n",
       " 'TTau*_Candidate': 1,\n",
       " 'Orion_V*': 1}"
      ]
     },
     "execution_count": 24,
     "metadata": {},
     "output_type": "execute_result"
    }
   ],
   "source": [
    "gd1 = simad_type(\"../Class_disk-unique/\", \"Halpha_emitter_disk_group1_simbad.csv\")\n",
    "gd1"
   ]
  },
  {
   "cell_type": "code",
   "execution_count": 23,
   "id": "846c8c77-5532-4dcb-aa23-c05ddeeb93a3",
   "metadata": {},
   "outputs": [
    {
     "name": "stdout",
     "output_type": "stream",
     "text": [
      "Number of object: 205\n"
     ]
    },
    {
     "data": {
      "text/plain": [
       "{'Star': 77,\n",
       " 'EB*_Candidate': 38,\n",
       " 'SB*': 16,\n",
       " 'EB*': 15,\n",
       " 'V*': 8,\n",
       " 'PulsV*delSct': 7,\n",
       " 'Em*': 7,\n",
       " 'RRLyr': 6,\n",
       " 'YSO_Candidate': 4,\n",
       " 'LPV*': 4,\n",
       " 'LP*_Candidate': 4,\n",
       " 'PulsV*': 3,\n",
       " 'Be*': 3,\n",
       " 'RGB*': 2,\n",
       " 'EmObj': 2,\n",
       " '**': 2,\n",
       " 'YSO': 2,\n",
       " 'C*': 1,\n",
       " 'deltaCep': 1,\n",
       " 'V*?_Candidate': 1,\n",
       " 'Cepheid_Candidate': 1,\n",
       " 'Ae*_Candidate': 1}"
      ]
     },
     "execution_count": 23,
     "metadata": {},
     "output_type": "execute_result"
    }
   ],
   "source": [
    "gd2 = simad_type(\"../Class_disk-unique/\", \"Halpha_emitter_disk_group2_simbad.csv\")\n",
    "gd2"
   ]
  },
  {
   "cell_type": "code",
   "execution_count": 22,
   "id": "bb3b184d-eefe-424e-9a3b-22444e7de3e0",
   "metadata": {},
   "outputs": [
    {
     "name": "stdout",
     "output_type": "stream",
     "text": [
      "Number of object: 10\n"
     ]
    },
    {
     "data": {
      "text/plain": [
       "{'Star': 3, 'Em*': 2, 'V*': 2, '**': 1, 'PulsV*': 1, 'SB*': 1}"
      ]
     },
     "execution_count": 22,
     "metadata": {},
     "output_type": "execute_result"
    }
   ],
   "source": [
    "gdnoise = simad_type(\"../Class_disk-unique/\", \"Halpha_emitter_disk_group_noise_simbad.csv\")\n",
    "gdnoise"
   ]
  },
  {
   "cell_type": "markdown",
   "id": "616ae761-a6ac-44cc-b560-bb9b03201652",
   "metadata": {},
   "source": [
    "## SPLUS + WISE (disk)"
   ]
  },
  {
   "cell_type": "code",
   "execution_count": 28,
   "id": "31e5565f-bd1a-49b8-bf8c-8e6af5ad8597",
   "metadata": {},
   "outputs": [
    {
     "name": "stdout",
     "output_type": "stream",
     "text": [
      "Number of object: 105\n"
     ]
    },
    {
     "data": {
      "text/plain": [
       "{'Em*': 57,\n",
       " 'YSO_Candidate': 29,\n",
       " 'Star': 7,\n",
       " 'LP*_Candidate': 3,\n",
       " 'YSO': 2,\n",
       " 'BYDra': 1,\n",
       " 'RSCVn': 1,\n",
       " '**': 1,\n",
       " 'TTau*_Candidate': 1,\n",
       " 'V*': 1,\n",
       " 'Ae*_Candidate': 1,\n",
       " 'LPV*': 1}"
      ]
     },
     "execution_count": 28,
     "metadata": {},
     "output_type": "execute_result"
    }
   ],
   "source": [
    "gdw0 = simad_type(\"../Class_disk-wise-unique/\", \"Halpha_emitter_disk_wise_group0-simbad.csv\")\n",
    "gdw0"
   ]
  },
  {
   "cell_type": "code",
   "execution_count": 29,
   "id": "071efd06-a6a8-47c9-9824-835e9ded1e47",
   "metadata": {},
   "outputs": [
    {
     "name": "stdout",
     "output_type": "stream",
     "text": [
      "Number of object: 216\n"
     ]
    },
    {
     "data": {
      "text/plain": [
       "{'Star': 77,\n",
       " 'EB*_Candidate': 37,\n",
       " 'SB*': 17,\n",
       " 'EB*': 14,\n",
       " 'Em*': 13,\n",
       " 'V*': 9,\n",
       " 'PulsV*delSct': 7,\n",
       " 'RRLyr': 6,\n",
       " 'PulsV*': 5,\n",
       " 'LP*_Candidate': 4,\n",
       " 'LPV*': 3,\n",
       " 'Be*': 3,\n",
       " 'YSO_Candidate': 3,\n",
       " 'CataclyV*': 3,\n",
       " 'Hsd_Candidate': 2,\n",
       " 'RGB*': 2,\n",
       " '**': 2,\n",
       " 'YSO': 2,\n",
       " 'X': 1,\n",
       " 'EmObj': 1,\n",
       " 'CV*_Candidate': 1,\n",
       " 'C*': 1,\n",
       " 'deltaCep': 1,\n",
       " 'V*?_Candidate': 1,\n",
       " 'Cepheid_Candidate': 1}"
      ]
     },
     "execution_count": 29,
     "metadata": {},
     "output_type": "execute_result"
    }
   ],
   "source": [
    "gdw1 = simad_type(\"../Class_disk-wise-unique/\", \"Halpha_emitter_disk_wise_group1-simbad.csv\")\n",
    "gdw1"
   ]
  },
  {
   "cell_type": "code",
   "execution_count": null,
   "id": "46cc36dc-a34b-43c0-bad6-e992b250ede7",
   "metadata": {},
   "outputs": [],
   "source": []
  }
 ],
 "metadata": {
  "kernelspec": {
   "display_name": "Python 3 (ipykernel)",
   "language": "python",
   "name": "python3"
  },
  "language_info": {
   "codemirror_mode": {
    "name": "ipython",
    "version": 3
   },
   "file_extension": ".py",
   "mimetype": "text/x-python",
   "name": "python",
   "nbconvert_exporter": "python",
   "pygments_lexer": "ipython3",
   "version": "3.9.19"
  }
 },
 "nbformat": 4,
 "nbformat_minor": 5
}

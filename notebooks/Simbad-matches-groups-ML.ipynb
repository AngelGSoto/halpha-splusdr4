{
 "cells": [
  {
   "cell_type": "code",
   "execution_count": 1,
   "id": "a787e506",
   "metadata": {},
   "outputs": [],
   "source": [
    "from astropy.io import fits\n",
    "import numpy as np\n",
    "from astropy.table import Table\n",
    "import pandas as pd\n",
    "import glob\n",
    "from astropy.table import vstack\n",
    "import seaborn as sns"
   ]
  },
  {
   "cell_type": "code",
   "execution_count": 4,
   "id": "b9d20a24",
   "metadata": {},
   "outputs": [],
   "source": [
    "def simad_type(Path, file_):\n",
    "    df = pd.read_csv(Path + file_)\n",
    "    print(\"Number of object:\", len(df))\n",
    "    dict_simbad_ = df[\"main_type\"].value_counts().to_dict()\n",
    "    return dict_simbad_"
   ]
  },
  {
   "cell_type": "markdown",
   "id": "a19643df",
   "metadata": {},
   "source": [
    "# Main survey"
   ]
  },
  {
   "cell_type": "markdown",
   "id": "1b17ccd5",
   "metadata": {},
   "source": [
    "## Just splus colors "
   ]
  },
  {
   "cell_type": "code",
   "execution_count": 5,
   "id": "7da7d748",
   "metadata": {},
   "outputs": [
    {
     "name": "stdout",
     "output_type": "stream",
     "text": [
      "Number of object: 461\n"
     ]
    },
    {
     "data": {
      "text/plain": [
       "{'EB*': 268,\n",
       " 'RRLyr': 110,\n",
       " 'EB*_Candidate': 23,\n",
       " 'Star': 14,\n",
       " 'QSO': 12,\n",
       " 'PulsV*': 10,\n",
       " 'PulsV*delSct': 7,\n",
       " 'V*': 4,\n",
       " 'RotV*': 3,\n",
       " 'Pec*': 2,\n",
       " 'low-mass*': 2,\n",
       " 'SB*_Candidate': 1,\n",
       " 'BlueStraggler': 1,\n",
       " 'CV*_Candidate': 1,\n",
       " 'AGB*': 1,\n",
       " 'CataclyV*': 1,\n",
       " 'RSCVn': 1}"
      ]
     },
     "execution_count": 5,
     "metadata": {},
     "output_type": "execute_result"
    }
   ],
   "source": [
    "g0 = simad_type(\"../Class_allflters_err/\", \"Halpha_emitter_group0-simbad.csv\")\n",
    "g0"
   ]
  },
  {
   "cell_type": "code",
   "execution_count": 6,
   "id": "f2880aaa",
   "metadata": {},
   "outputs": [
    {
     "name": "stdout",
     "output_type": "stream",
     "text": [
      "Number of object: 24\n"
     ]
    },
    {
     "data": {
      "text/plain": [
       "{'QSO': 21, 'Galaxy': 1, 'Radio': 1, 'QSO_Candidate': 1}"
      ]
     },
     "execution_count": 6,
     "metadata": {},
     "output_type": "execute_result"
    }
   ],
   "source": [
    "g1 = simad_type(\"../Class_allflters_err/\", \"Halpha_emitter_group1-simbad.csv\")\n",
    "g1"
   ]
  },
  {
   "cell_type": "code",
   "execution_count": 7,
   "id": "471f8973",
   "metadata": {},
   "outputs": [
    {
     "name": "stdout",
     "output_type": "stream",
     "text": [
      "Number of object: 143\n"
     ]
    },
    {
     "data": {
      "text/plain": [
       "{'QSO': 78,\n",
       " 'CataclyV*': 27,\n",
       " 'Star': 7,\n",
       " 'Blue': 7,\n",
       " 'Hsd_Candidate': 4,\n",
       " 'CV*_Candidate': 3,\n",
       " 'AGN': 3,\n",
       " 'Radio': 3,\n",
       " 'WD*_Candidate': 3,\n",
       " 'RRLyr': 2,\n",
       " 'Galaxy': 2,\n",
       " 'WD*': 2,\n",
       " 'EB*': 1,\n",
       " 'Seyfert_1': 1}"
      ]
     },
     "execution_count": 7,
     "metadata": {},
     "output_type": "execute_result"
    }
   ],
   "source": [
    "g2 = simad_type(\"../Class_allflters_err/\", \"Halpha_emitter_group2-simbad.csv\")\n",
    "g2"
   ]
  },
  {
   "cell_type": "code",
   "execution_count": 12,
   "id": "2b5585fa",
   "metadata": {},
   "outputs": [
    {
     "name": "stdout",
     "output_type": "stream",
     "text": [
      "Number of object: 45\n"
     ]
    },
    {
     "data": {
      "text/plain": [
       "{'QSO': 19,\n",
       " 'Seyfert_1': 10,\n",
       " 'AGN_Candidate': 6,\n",
       " 'AGN': 4,\n",
       " 'Galaxy': 3,\n",
       " 'Radio': 2,\n",
       " 'RadioG': 1}"
      ]
     },
     "execution_count": 12,
     "metadata": {},
     "output_type": "execute_result"
    }
   ],
   "source": [
    "g3 = simad_type(\"../Class_allflters_err/\", \"Halpha_emitter_group3-simbad.csv\")\n",
    "g3"
   ]
  },
  {
   "cell_type": "markdown",
   "id": "d912a70f",
   "metadata": {},
   "source": [
    "## SPLSU + WISE"
   ]
  },
  {
   "cell_type": "code",
   "execution_count": 13,
   "id": "2185ace4",
   "metadata": {},
   "outputs": [
    {
     "name": "stdout",
     "output_type": "stream",
     "text": [
      "Number of object: 25\n"
     ]
    },
    {
     "data": {
      "text/plain": [
       "{'QSO': 22, 'Radio': 1, 'QSO_Candidate': 1, 'Galaxy': 1}"
      ]
     },
     "execution_count": 13,
     "metadata": {},
     "output_type": "execute_result"
    }
   ],
   "source": [
    "gw0 = simad_type(\"../Class_allfilter_wise/\", \"Halpha_emitter_wise_group0-simdad.csv\")\n",
    "gw0"
   ]
  },
  {
   "cell_type": "code",
   "execution_count": 15,
   "id": "0c2cda28",
   "metadata": {},
   "outputs": [
    {
     "name": "stdout",
     "output_type": "stream",
     "text": [
      "Number of object: 46\n"
     ]
    },
    {
     "data": {
      "text/plain": [
       "{'QSO': 20,\n",
       " 'Seyfert_1': 10,\n",
       " 'AGN_Candidate': 6,\n",
       " 'AGN': 4,\n",
       " 'Galaxy': 3,\n",
       " 'Radio': 2,\n",
       " 'RadioG': 1}"
      ]
     },
     "execution_count": 15,
     "metadata": {},
     "output_type": "execute_result"
    }
   ],
   "source": [
    "gw1 = simad_type(\"../Class_allfilter_wise/\", \"Halpha_emitter_wise_group1-simbad.csv\")\n",
    "gw1"
   ]
  },
  {
   "cell_type": "code",
   "execution_count": 16,
   "id": "a4c6dfc0",
   "metadata": {},
   "outputs": [
    {
     "name": "stdout",
     "output_type": "stream",
     "text": [
      "Number of object: 129\n"
     ]
    },
    {
     "data": {
      "text/plain": [
       "{'RRLyr': 97,\n",
       " 'EB*': 19,\n",
       " 'PulsV*': 8,\n",
       " 'PulsV*delSct': 2,\n",
       " 'EB*_Candidate': 1,\n",
       " 'RotV*': 1,\n",
       " 'SB*_Candidate': 1}"
      ]
     },
     "execution_count": 16,
     "metadata": {},
     "output_type": "execute_result"
    }
   ],
   "source": [
    "gw2 = simad_type(\"../Class_allfilter_wise/\", \"Halpha_emitter_wise_group2-simbad.csv\")\n",
    "gw2"
   ]
  },
  {
   "cell_type": "code",
   "execution_count": 17,
   "id": "6dd4361a",
   "metadata": {},
   "outputs": [
    {
     "name": "stdout",
     "output_type": "stream",
     "text": [
      "Number of object: 297\n"
     ]
    },
    {
     "data": {
      "text/plain": [
       "{'EB*': 244,\n",
       " 'EB*_Candidate': 22,\n",
       " 'Star': 13,\n",
       " 'V*': 4,\n",
       " 'QSO': 3,\n",
       " 'RotV*': 2,\n",
       " 'RRLyr': 2,\n",
       " 'Pec*': 2,\n",
       " 'low-mass*': 2,\n",
       " 'CataclyV*': 1,\n",
       " 'AGB*': 1,\n",
       " 'CV*_Candidate': 1}"
      ]
     },
     "execution_count": 17,
     "metadata": {},
     "output_type": "execute_result"
    }
   ],
   "source": [
    "gw3 = simad_type(\"../Class_allfilter_wise/\", \"Halpha_emitter_wise_group3-simbad.csv\")\n",
    "gw3"
   ]
  },
  {
   "cell_type": "code",
   "execution_count": 18,
   "id": "80b3eed9",
   "metadata": {},
   "outputs": [
    {
     "name": "stdout",
     "output_type": "stream",
     "text": [
      "Number of object: 38\n"
     ]
    },
    {
     "data": {
      "text/plain": [
       "{'CataclyV*': 26,\n",
       " 'WD*_Candidate': 3,\n",
       " 'Hsd_Candidate': 3,\n",
       " 'Star': 2,\n",
       " 'CV*_Candidate': 2,\n",
       " 'RRLyr': 1,\n",
       " 'Seyfert_1': 1}"
      ]
     },
     "execution_count": 18,
     "metadata": {},
     "output_type": "execute_result"
    }
   ],
   "source": [
    "gw4 = simad_type(\"../Class_allfilter_wise/\", \"Halpha_emitter_wise_group4-simbad.csv\")\n",
    "gw4"
   ]
  },
  {
   "cell_type": "code",
   "execution_count": 19,
   "id": "596a18cc",
   "metadata": {},
   "outputs": [
    {
     "name": "stdout",
     "output_type": "stream",
     "text": [
      "Number of object: 101\n"
     ]
    },
    {
     "data": {
      "text/plain": [
       "{'QSO': 84, 'Blue': 7, 'Radio': 3, 'AGN': 3, 'Galaxy': 2, 'Star': 2}"
      ]
     },
     "execution_count": 19,
     "metadata": {},
     "output_type": "execute_result"
    }
   ],
   "source": [
    "gw5 = simad_type(\"../Class_allfilter_wise/\", \"Halpha_emitter_wise_group5-simbad.csv\")\n",
    "gw5"
   ]
  },
  {
   "cell_type": "code",
   "execution_count": null,
   "id": "7cf1d346",
   "metadata": {},
   "outputs": [],
   "source": []
  },
  {
   "cell_type": "code",
   "execution_count": null,
   "id": "8d1a81ec",
   "metadata": {},
   "outputs": [],
   "source": []
  }
 ],
 "metadata": {
  "kernelspec": {
   "display_name": "Python 3 (ipykernel)",
   "language": "python",
   "name": "python3"
  },
  "language_info": {
   "codemirror_mode": {
    "name": "ipython",
    "version": 3
   },
   "file_extension": ".py",
   "mimetype": "text/x-python",
   "name": "python",
   "nbconvert_exporter": "python",
   "pygments_lexer": "ipython3",
   "version": "3.9.19"
  }
 },
 "nbformat": 4,
 "nbformat_minor": 5
}

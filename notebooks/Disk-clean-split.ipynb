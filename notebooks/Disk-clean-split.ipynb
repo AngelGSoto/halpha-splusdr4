{
 "cells": [
  {
   "cell_type": "markdown",
   "id": "4e84be67",
   "metadata": {},
   "source": [
    "# Disk Stars"
   ]
  },
  {
   "cell_type": "code",
   "execution_count": 1,
   "id": "f3bd766f",
   "metadata": {},
   "outputs": [],
   "source": [
    "from typing import Optional, Tuple\n",
    "from astropy.io import fits\n",
    "from astropy.table import Table, vstack\n",
    "import numpy as np\n",
    "import pandas as pd\n",
    "import glob\n",
    "from matplotlib import pyplot as plt\n",
    "from scipy.stats import gaussian_kde\n",
    "import matplotlib.cm as cm\n",
    "import seaborn as sns\n",
    "sns.set_theme(style=\"ticks\")"
   ]
  },
  {
   "cell_type": "code",
   "execution_count": 2,
   "id": "e4e8c444",
   "metadata": {},
   "outputs": [],
   "source": [
    "# Open the FITS files\n",
    "# Define the pattern to match FITS files\n",
    "pattern = '../Disk_Lomeli/*.fits'\n",
    "\n",
    "# Use glob to find all FITS files in the current directory\n",
    "fits_files = glob.glob(pattern)\n",
    "\n"
   ]
  },
  {
   "cell_type": "code",
   "execution_count": 3,
   "id": "4fe3ce0c",
   "metadata": {},
   "outputs": [],
   "source": [
    "# Create an empty list to store individual tables\n",
    "tables = []\n",
    "    "
   ]
  },
  {
   "cell_type": "code",
   "execution_count": null,
   "id": "dcf5a030",
   "metadata": {},
   "outputs": [],
   "source": [
    "# Loop through each FITS file and read it into a Table\n",
    "for file in fits_files:\n",
    "    with fits.open(file) as hdul:\n",
    "        # Extract data from the FITS file\n",
    "        data = hdul[1].data  # Assuming the data is in the first extension (HDU index 1)\n",
    "        \n",
    "        # Convert the data to a Table\n",
    "        table = Table(data)\n",
    "        \n",
    "        # Append the Table to the list\n",
    "        tables.append(table)"
   ]
  },
  {
   "cell_type": "code",
   "execution_count": null,
   "id": "a9f70239",
   "metadata": {},
   "outputs": [],
   "source": []
  },
  {
   "cell_type": "code",
   "execution_count": null,
   "id": "ba9c2aae",
   "metadata": {},
   "outputs": [],
   "source": [
    "# Concatenate all Tables into a single Table\n",
    "final_table_ = vstack(tables)\n",
    "final_table_"
   ]
  },
  {
   "cell_type": "code",
   "execution_count": null,
   "id": "5155e921",
   "metadata": {},
   "outputs": [],
   "source": [
    "# Define chunk size\n",
    "chunk_size = 10000  # Adjust this value as needed\n",
    "\n",
    "# Create an empty list to store chunks of filtered tables\n",
    "filtered_chunks = []\n",
    "\n",
    "# Loop over chunks of the table\n",
    "for chunk_start in range(0, len(final_table_), chunk_size):\n",
    "    chunk_end = min(chunk_start + chunk_size, len(final_table_))\n",
    "    chunk = final_table_[chunk_start:chunk_end]\n",
    "\n",
    "    # Apply filtering directly to the chunk\n",
    "    filtered_chunk = chunk[(chunk[\"field\"] != \"d049\") & (chunk[\"field\"] != \"d203\")]\n",
    "\n",
    "    # Append filtered chunk to the list\n",
    "    filtered_chunks.append(filtered_chunk)\n",
    "\n",
    "# Concatenate filtered chunks into a single table\n",
    "final_table = Table.vstack(filtered_chunks)"
   ]
  },
  {
   "cell_type": "markdown",
   "id": "cc8cbe33",
   "metadata": {},
   "source": [
    "### Cleaning"
   ]
  },
  {
   "cell_type": "code",
   "execution_count": null,
   "id": "d72c4765",
   "metadata": {},
   "outputs": [],
   "source": [
    "final_table.colnames\n"
   ]
  },
  {
   "cell_type": "code",
   "execution_count": null,
   "id": "22c6bd57",
   "metadata": {},
   "outputs": [],
   "source": [
    "# Masking, usar FLATS menor que 4\n",
    "# Masking\n",
    "m_x =  (final_table[\"r\"] >= 13) & (final_table[\"r\"] <= 19.5) &\\\n",
    "       (final_table[\"F660\"] <= 19.4) & (final_table[\"i\"] <= 19.2) \n",
    "\n",
    "m_err = (final_table[\"rerr\"] <= 0.2) &  \\\n",
    "        (final_table[\"F660err\"] <= 0.2) & \\\n",
    "        (final_table[\"ierr\"] <= 0.2)\n",
    "\n",
    "\n",
    "#m_sn = (tab[\"s2n_r_PStotal\"] >= 10) & \\\n",
    "#       (tab[\"s2n_J0660_PStotal\"] >= 10) & \\\n",
    "#        (tab[\"s2n_i_PStotal\"] >= 10)\n",
    "\n",
    "m_ell = (final_table[\"ellip_r\"] <= 0.2) & (final_table[\"ellip_i\"] <= 0.2)\n",
    "\n",
    "m_50 = (final_table[\"flux_radius_r\"] <= 3) & (final_table[\"flux_radius_i\"] <= 3)\n",
    "\n",
    "flags = (final_table[\"flags_r\"] == 0) & (final_table[\"flags_i\"] == 0)\n",
    "\n",
    "class_star = (final_table[\"class_r\"] > 0.5) & (final_table[\"class_i\"] > 0.5)\n",
    "\n",
    "mask = m_x & m_err & m_ell & m_50 & flags & class_star# Use fwhm_mask instead of valid_fwhm_range\n",
    "tab_clean = final_table[mask]\n"
   ]
  },
  {
   "cell_type": "code",
   "execution_count": null,
   "id": "faffaef3",
   "metadata": {},
   "outputs": [],
   "source": []
  },
  {
   "cell_type": "code",
   "execution_count": null,
   "id": "299d4e9a",
   "metadata": {},
   "outputs": [],
   "source": [
    "tab_clean"
   ]
  },
  {
   "cell_type": "code",
   "execution_count": null,
   "id": "27ce6266",
   "metadata": {},
   "outputs": [],
   "source": [
    "ri = tab_clean[\"r\"] - tab_clean[\"i\"]\n",
    "rj660 = tab_clean[\"r\"] - tab_clean[\"F660\"]"
   ]
  },
  {
   "cell_type": "code",
   "execution_count": null,
   "id": "7b25917a",
   "metadata": {},
   "outputs": [],
   "source": [
    "def equation(m, c, x):\n",
    "    # Define your equation here, for example, a linear equation: y = mx + c\n",
    "    y = m * x + c\n",
    "    return y"
   ]
  },
  {
   "cell_type": "code",
   "execution_count": null,
   "id": "c5e303b1",
   "metadata": {},
   "outputs": [],
   "source": [
    "def plots(\n",
    "    color1: np.ndarray,\n",
    "    color2: np.ndarray,\n",
    "    x_values: np.ndarray,\n",
    "    y_values: np.ndarray,\n",
    "    y_values1: Optional[np.ndarray] = None,\n",
    "    sample_size: Optional[int] = None,\n",
    "    xlim: Optional[Tuple[float, float]] = None,\n",
    "    ylim: Optional[Tuple[float, float]] = None,\n",
    "    density_method: str = \"gaussian_kde\",\n",
    "    colormap: str = \"viridis\",\n",
    "    label1: str = None,\n",
    "    label2: str = None,\n",
    "    label3: str = None,\n",
    "    title: str = \"Scatter Plot with Density Coloring\"\n",
    ") -> None:\n",
    "    \"\"\"\n",
    "    Plots a scatter plot with points colored based on their density and one or two lines \n",
    "    defined by x_values, y_values, and optionally y_values1.\n",
    "    \"\"\"\n",
    "\n",
    "    # Handle sampling and duplicate colors, ensuring equal lengths\n",
    "    if sample_size is not None:\n",
    "        unique_indices = np.random.choice(len(color1), size=sample_size, replace=False)\n",
    "        color1, color2 = color1[unique_indices], color2[unique_indices]\n",
    "\n",
    "    # Calculate density\n",
    "    xy = np.vstack([color1, color2])\n",
    "    if density_method == \"gaussian_kde\":\n",
    "        density = gaussian_kde(xy)(xy)\n",
    "    else:\n",
    "        raise NotImplementedError(f\"Density method {density_method} not supported.\")\n",
    "\n",
    "    # Sort points by density\n",
    "    sorted_indices = density.argsort()[::-1]  # Descending order\n",
    "    color1, color2, density = color1[sorted_indices], color2[sorted_indices], density[sorted_indices]\n",
    "\n",
    "    # Create plot\n",
    "    fig, ax = plt.subplots(figsize=(14, 11))\n",
    "\n",
    "    # Customize scatter plot\n",
    "    scatter_collection = ax.scatter(\n",
    "        color1,\n",
    "        color2,\n",
    "        c=density,\n",
    "        s=10,\n",
    "        cmap=colormap,\n",
    "        alpha=0.8,\n",
    "        label=label1 if label1 else \"Color 1\"\n",
    "    )\n",
    "\n",
    "    # Customize colorbar\n",
    "    plt.colorbar(scatter_collection, label=\"Density\")\n",
    "\n",
    "    # Customize line plots\n",
    "    plt.plot(x_values, y_values, linewidth=2, color=\"red\", label=label2 if label2 else \"Line 1\")\n",
    "    if y_values1 is not None:\n",
    "        plt.plot(x_values, y_values1, linewidth=2, color=\"blue\", label=label3 if label3 else \"Line 2\")\n",
    "\n",
    "    # Set limits\n",
    "    if xlim is not None:\n",
    "        plt.xlim(xlim)\n",
    "    if ylim is not None:\n",
    "        plt.ylim(ylim)\n",
    "\n",
    "    # Add labels and title\n",
    "    plt.xlabel(label1 if label1 else \"Color 1\")\n",
    "    plt.ylabel(label2 if label2 else \"Color 2\")\n",
    "    plt.title(title)\n",
    "\n",
    "    # Add legend if labels are provided\n",
    "    if label1 or label2 or label3:\n",
    "        plt.legend()\n",
    "\n",
    "    plt.show()"
   ]
  },
  {
   "cell_type": "code",
   "execution_count": null,
   "id": "6c07e09b",
   "metadata": {},
   "outputs": [],
   "source": [
    "# Generate x values\n",
    "x_values = np.linspace(-10, 10, 100)  # Generate 100 x values from 0 to 10\n",
    "\n",
    "# Compute y values using the equation\n",
    "y_values = equation(0.35, -0.55, x_values)"
   ]
  },
  {
   "cell_type": "code",
   "execution_count": null,
   "id": "d8378e2e",
   "metadata": {},
   "outputs": [],
   "source": [
    "y_values1 = equation(0.35, 0.45, x_values)"
   ]
  },
  {
   "cell_type": "code",
   "execution_count": null,
   "id": "286c0cee",
   "metadata": {},
   "outputs": [],
   "source": [
    "plots(ri, rj660, x_values, y_values, y_values1, xlim=(-1.5, 3), ylim=(-5, 4), sample_size=10000)"
   ]
  },
  {
   "cell_type": "code",
   "execution_count": null,
   "id": "66772fb1",
   "metadata": {},
   "outputs": [],
   "source": [
    "# Select objects below the line\n",
    "# below_line = rj660 < equation(ri)\n",
    "color_crit = (rj660  <= 0.35*ri - 0.55)\n",
    "\n",
    "# upper_line = rj660 < equation(ri)\n",
    "color_crit_upper = (rj660 >= 0.35*ri + 0.45)"
   ]
  },
  {
   "cell_type": "code",
   "execution_count": null,
   "id": "c1b3d455",
   "metadata": {},
   "outputs": [],
   "source": [
    "tab_clean_below = tab_clean[color_crit]\n",
    "len(tab_clean_below)"
   ]
  },
  {
   "cell_type": "code",
   "execution_count": null,
   "id": "a5d586d7",
   "metadata": {},
   "outputs": [],
   "source": [
    "ri_below = tab_clean_below[\"r\"] - tab_clean_below[\"i\"]\n",
    "rj660_below = tab_clean_below[\"r\"] - tab_clean_below[\"F660\"]\n",
    "\n",
    "\n",
    "\n",
    "plots(ri_below, rj660_below, x_values, y_values, xlim=(-1.5, 3), ylim=(-5, 4))"
   ]
  },
  {
   "cell_type": "code",
   "execution_count": null,
   "id": "726ad0c9",
   "metadata": {},
   "outputs": [],
   "source": [
    "df_bellow = tab_clean_below.to_pandas()\n",
    "#Select columns \n",
    "df_bellow_ = df_bellow[[\"ALPHA\", \"DELTA\", \"x\", \"y\", \"fwhm_r\", \"r\", \"F660\", \"i\"]]\n",
    "             \n",
    "sns.pairplot(df_bellow_)"
   ]
  },
  {
   "cell_type": "markdown",
   "id": "828caf78",
   "metadata": {},
   "source": [
    "### Upper"
   ]
  },
  {
   "cell_type": "code",
   "execution_count": null,
   "id": "97d354ad",
   "metadata": {},
   "outputs": [],
   "source": [
    "tab_clean_upper = tab_clean[color_crit_upper]\n",
    "tab_clean_upper"
   ]
  },
  {
   "cell_type": "code",
   "execution_count": null,
   "id": "7f2868ad",
   "metadata": {},
   "outputs": [],
   "source": [
    "ri_upper = tab_clean_upper[\"r\"] - tab_clean_upper[\"i\"]\n",
    "rj660_upper = tab_clean_upper[\"r\"] - tab_clean_upper[\"F660\"]\n",
    "\n",
    "\n",
    "plots(ri_upper, rj660_upper, x_values, y_values1, xlim=(-1.5, 3), ylim=(-5, 4))"
   ]
  },
  {
   "cell_type": "code",
   "execution_count": null,
   "id": "4b9bbdb2",
   "metadata": {},
   "outputs": [],
   "source": [
    "df_bellow = tab_clean_upper.to_pandas()\n",
    "#Select columns \n",
    "df_bellow_ = df_bellow[[\"ALPHA\", \"DELTA\", \"x\", \"y\", \"fwhm_r\", \"r\", \"F660\", \"i\"]]\n",
    "             \n",
    "sns.pairplot(df_bellow_)"
   ]
  },
  {
   "cell_type": "markdown",
   "id": "b5035759",
   "metadata": {},
   "source": [
    "# Spliting by r bin"
   ]
  },
  {
   "cell_type": "code",
   "execution_count": null,
   "id": "90839768",
   "metadata": {},
   "outputs": [],
   "source": [
    "# Define conditions for splitting the table based on the \"r\" column\n",
    "condition_1 = tab_clean['r'] <= 16\n",
    "condition_2 = (tab_clean['r'] > 16) & (tab_clean['r'] <= 17.5)\n",
    "condition_3 = (tab_clean['r'] > 17.5) & (tab_clean['r'] <= 18.5)\n",
    "condition_4 = (tab_clean['r'] > 18.5) & (tab_clean['r'] <= 19.5)\n",
    "\n",
    "# Apply conditions to filter the table\n",
    "table_1 = tab_clean[condition_1]\n",
    "table_2 = tab_clean[condition_2]\n",
    "table_3 = tab_clean[condition_3]\n",
    "table_4 = tab_clean[condition_4]"
   ]
  },
  {
   "cell_type": "code",
   "execution_count": null,
   "id": "cff2e8b9",
   "metadata": {},
   "outputs": [],
   "source": [
    "len(table_1)"
   ]
  },
  {
   "cell_type": "code",
   "execution_count": null,
   "id": "3b8db111",
   "metadata": {},
   "outputs": [],
   "source": [
    "# Convert Astropy tables to pandas DataFrames and save each one\n",
    "df_table_1 = table_1.to_pandas()\n",
    "df_table_1.to_csv('../Disk_Lomeli/disk_splus_13r16.csv', index=False)\n",
    "del df_table_1  # Free memory by deleting the DataFrame"
   ]
  },
  {
   "cell_type": "code",
   "execution_count": null,
   "id": "994db6cf",
   "metadata": {},
   "outputs": [],
   "source": [
    "df_table_2 = table_2.to_pandas()\n",
    "df_table_2.to_csv('../Disk_Lomeli/disk_splus_16r175.csv', index=False)\n",
    "del df_table_2"
   ]
  },
  {
   "cell_type": "code",
   "execution_count": null,
   "id": "5987522c",
   "metadata": {},
   "outputs": [],
   "source": [
    "df_table_3 = table_3.to_pandas()\n",
    "df_table_3.to_csv('../Disk_Lomeli/disk_splus_175r185.csv', index=False)\n",
    "del df_table_3"
   ]
  },
  {
   "cell_type": "code",
   "execution_count": null,
   "id": "5bc40a1d",
   "metadata": {},
   "outputs": [],
   "source": [
    "df_table_4 = table_4.to_pandas()\n",
    "df_table_4.to_csv('../Disk_Lomeli/disk_splus_185r195.csv', index=False)\n",
    "del df_table_4"
   ]
  },
  {
   "cell_type": "code",
   "execution_count": null,
   "id": "6911a148",
   "metadata": {},
   "outputs": [],
   "source": [
    "print(\"CSV files for each table saved successfully.\")"
   ]
  },
  {
   "cell_type": "code",
   "execution_count": null,
   "id": "72f8b3eb",
   "metadata": {},
   "outputs": [],
   "source": []
  }
 ],
 "metadata": {
  "kernelspec": {
   "display_name": "Python 3 (ipykernel)",
   "language": "python",
   "name": "python3"
  },
  "language_info": {
   "codemirror_mode": {
    "name": "ipython",
    "version": 3
   },
   "file_extension": ".py",
   "mimetype": "text/x-python",
   "name": "python",
   "nbconvert_exporter": "python",
   "pygments_lexer": "ipython3",
   "version": "3.12.2"
  }
 },
 "nbformat": 4,
 "nbformat_minor": 5
}
